{
 "cells": [
  {
   "cell_type": "markdown",
   "id": "330788c1",
   "metadata": {},
   "source": [
    "Exploring the dataset\n"
   ]
  },
  {
   "cell_type": "code",
   "execution_count": null,
   "id": "1288f150",
   "metadata": {},
   "outputs": [],
   "source": [
    "#Importing necessary libraries\n",
    "import pandas as pd\n",
    "import plotly.express as px\n",
    "import plotly.graph_objects as go\n",
    "import folium\n",
    "from folium.plugins import MarkerCluster\n",
    "from folium.plugins import TimestampedGeoJson\n",
    "import json\n",
    "from datetime import datetime, timedelta"
   ]
  },
  {
   "cell_type": "markdown",
   "id": "9b55958e",
   "metadata": {},
   "source": [
    "Loading the air quality dataset for Delhi"
   ]
  },
  {
   "cell_type": "code",
   "execution_count": 108,
   "id": "b6ee9445",
   "metadata": {},
   "outputs": [],
   "source": [
    "df = pd.read_csv(r'..\\Datasets\\r.k.-puram, delhi-air-quality.csv')"
   ]
  },
  {
   "cell_type": "code",
   "execution_count": 109,
   "id": "97bbb194",
   "metadata": {},
   "outputs": [
    {
     "data": {
      "text/html": [
       "<div>\n",
       "<style scoped>\n",
       "    .dataframe tbody tr th:only-of-type {\n",
       "        vertical-align: middle;\n",
       "    }\n",
       "\n",
       "    .dataframe tbody tr th {\n",
       "        vertical-align: top;\n",
       "    }\n",
       "\n",
       "    .dataframe thead th {\n",
       "        text-align: right;\n",
       "    }\n",
       "</style>\n",
       "<table border=\"1\" class=\"dataframe\">\n",
       "  <thead>\n",
       "    <tr style=\"text-align: right;\">\n",
       "      <th></th>\n",
       "      <th>date</th>\n",
       "      <th>pm25</th>\n",
       "      <th>pm10</th>\n",
       "      <th>o3</th>\n",
       "      <th>no2</th>\n",
       "      <th>so2</th>\n",
       "      <th>co</th>\n",
       "    </tr>\n",
       "  </thead>\n",
       "  <tbody>\n",
       "    <tr>\n",
       "      <th>0</th>\n",
       "      <td>2025/4/1</td>\n",
       "      <td>145</td>\n",
       "      <td>191</td>\n",
       "      <td>6</td>\n",
       "      <td>19</td>\n",
       "      <td>18</td>\n",
       "      <td>13</td>\n",
       "    </tr>\n",
       "    <tr>\n",
       "      <th>1</th>\n",
       "      <td>2025/4/2</td>\n",
       "      <td>182</td>\n",
       "      <td>130</td>\n",
       "      <td>5</td>\n",
       "      <td>19</td>\n",
       "      <td>15</td>\n",
       "      <td>12</td>\n",
       "    </tr>\n",
       "    <tr>\n",
       "      <th>2</th>\n",
       "      <td>2025/4/3</td>\n",
       "      <td>150</td>\n",
       "      <td>197</td>\n",
       "      <td>5</td>\n",
       "      <td>19</td>\n",
       "      <td>15</td>\n",
       "      <td>10</td>\n",
       "    </tr>\n",
       "    <tr>\n",
       "      <th>3</th>\n",
       "      <td>2025/4/4</td>\n",
       "      <td>153</td>\n",
       "      <td>151</td>\n",
       "      <td>6</td>\n",
       "      <td>17</td>\n",
       "      <td>13</td>\n",
       "      <td>9</td>\n",
       "    </tr>\n",
       "    <tr>\n",
       "      <th>4</th>\n",
       "      <td>2025/4/5</td>\n",
       "      <td>153</td>\n",
       "      <td>128</td>\n",
       "      <td>6</td>\n",
       "      <td>17</td>\n",
       "      <td>16</td>\n",
       "      <td>8</td>\n",
       "    </tr>\n",
       "  </tbody>\n",
       "</table>\n",
       "</div>"
      ],
      "text/plain": [
       "       date  pm25  pm10  o3  no2  so2   co\n",
       "0  2025/4/1   145   191   6   19   18   13\n",
       "1  2025/4/2   182   130   5   19   15   12\n",
       "2  2025/4/3   150   197   5   19   15   10\n",
       "3  2025/4/4   153   151   6   17   13    9\n",
       "4  2025/4/5   153   128   6   17   16    8"
      ]
     },
     "execution_count": 109,
     "metadata": {},
     "output_type": "execute_result"
    }
   ],
   "source": [
    "df.head()"
   ]
  },
  {
   "cell_type": "code",
   "execution_count": 110,
   "id": "dfa930ac",
   "metadata": {},
   "outputs": [
    {
     "name": "stdout",
     "output_type": "stream",
     "text": [
      "<class 'pandas.core.frame.DataFrame'>\n",
      "RangeIndex: 4063 entries, 0 to 4062\n",
      "Data columns (total 7 columns):\n",
      " #   Column  Non-Null Count  Dtype \n",
      "---  ------  --------------  ----- \n",
      " 0   date    4063 non-null   object\n",
      " 1    pm25   4063 non-null   object\n",
      " 2    pm10   4063 non-null   object\n",
      " 3    o3     4063 non-null   object\n",
      " 4    no2    4063 non-null   object\n",
      " 5    so2    4063 non-null   object\n",
      " 6    co     4063 non-null   object\n",
      "dtypes: object(7)\n",
      "memory usage: 222.3+ KB\n"
     ]
    }
   ],
   "source": [
    "df.info()"
   ]
  },
  {
   "cell_type": "markdown",
   "id": "3b5682c8",
   "metadata": {},
   "source": [
    "Data Cleanup"
   ]
  },
  {
   "cell_type": "code",
   "execution_count": 111,
   "id": "0ba642a7",
   "metadata": {},
   "outputs": [],
   "source": [
    "#Renaming the columns for better readability\n",
    "df = df.rename(columns=lambda x: x.strip())"
   ]
  },
  {
   "cell_type": "code",
   "execution_count": 112,
   "id": "4f01f715",
   "metadata": {},
   "outputs": [
    {
     "name": "stdout",
     "output_type": "stream",
     "text": [
      "<class 'pandas.core.frame.DataFrame'>\n",
      "RangeIndex: 4063 entries, 0 to 4062\n",
      "Data columns (total 7 columns):\n",
      " #   Column  Non-Null Count  Dtype  \n",
      "---  ------  --------------  -----  \n",
      " 0   date    4063 non-null   object \n",
      " 1   pm25    3840 non-null   float64\n",
      " 2   pm10    3966 non-null   float64\n",
      " 3   o3      3983 non-null   float64\n",
      " 4   no2     3991 non-null   float64\n",
      " 5   so2     3962 non-null   float64\n",
      " 6   co      3934 non-null   float64\n",
      "dtypes: float64(6), object(1)\n",
      "memory usage: 222.3+ KB\n"
     ]
    }
   ],
   "source": [
    "columns = ['pm25', 'pm10', 'so2', 'co', 'o3', 'no2']\n",
    "\n",
    "for i in columns:\n",
    "    df[i] = pd.to_numeric(df[i], errors='coerce')\n",
    "    \n",
    "df.info()"
   ]
  },
  {
   "cell_type": "code",
   "execution_count": 113,
   "id": "0d90f0a9",
   "metadata": {},
   "outputs": [
    {
     "data": {
      "text/plain": [
       "date      0\n",
       "pm25    223\n",
       "pm10     97\n",
       "o3       80\n",
       "no2      72\n",
       "so2     101\n",
       "co      129\n",
       "dtype: int64"
      ]
     },
     "execution_count": 113,
     "metadata": {},
     "output_type": "execute_result"
    }
   ],
   "source": [
    "df.isnull().sum()"
   ]
  },
  {
   "cell_type": "code",
   "execution_count": 114,
   "id": "9735c4e1",
   "metadata": {},
   "outputs": [
    {
     "data": {
      "text/html": [
       "<div>\n",
       "<style scoped>\n",
       "    .dataframe tbody tr th:only-of-type {\n",
       "        vertical-align: middle;\n",
       "    }\n",
       "\n",
       "    .dataframe tbody tr th {\n",
       "        vertical-align: top;\n",
       "    }\n",
       "\n",
       "    .dataframe thead th {\n",
       "        text-align: right;\n",
       "    }\n",
       "</style>\n",
       "<table border=\"1\" class=\"dataframe\">\n",
       "  <thead>\n",
       "    <tr style=\"text-align: right;\">\n",
       "      <th></th>\n",
       "      <th>pm25</th>\n",
       "      <th>pm10</th>\n",
       "      <th>o3</th>\n",
       "      <th>no2</th>\n",
       "      <th>so2</th>\n",
       "      <th>co</th>\n",
       "    </tr>\n",
       "  </thead>\n",
       "  <tbody>\n",
       "    <tr>\n",
       "      <th>count</th>\n",
       "      <td>3840.000000</td>\n",
       "      <td>3966.000000</td>\n",
       "      <td>3983.000000</td>\n",
       "      <td>3991.000000</td>\n",
       "      <td>3962.000000</td>\n",
       "      <td>3934.000000</td>\n",
       "    </tr>\n",
       "    <tr>\n",
       "      <th>mean</th>\n",
       "      <td>186.752344</td>\n",
       "      <td>153.195663</td>\n",
       "      <td>36.794376</td>\n",
       "      <td>23.919068</td>\n",
       "      <td>8.642605</td>\n",
       "      <td>12.771225</td>\n",
       "    </tr>\n",
       "    <tr>\n",
       "      <th>std</th>\n",
       "      <td>80.129749</td>\n",
       "      <td>99.513972</td>\n",
       "      <td>25.764097</td>\n",
       "      <td>13.730807</td>\n",
       "      <td>6.280451</td>\n",
       "      <td>9.214042</td>\n",
       "    </tr>\n",
       "    <tr>\n",
       "      <th>min</th>\n",
       "      <td>24.000000</td>\n",
       "      <td>10.000000</td>\n",
       "      <td>1.000000</td>\n",
       "      <td>1.000000</td>\n",
       "      <td>1.000000</td>\n",
       "      <td>1.000000</td>\n",
       "    </tr>\n",
       "    <tr>\n",
       "      <th>25%</th>\n",
       "      <td>135.000000</td>\n",
       "      <td>84.000000</td>\n",
       "      <td>17.000000</td>\n",
       "      <td>14.500000</td>\n",
       "      <td>4.000000</td>\n",
       "      <td>7.000000</td>\n",
       "    </tr>\n",
       "    <tr>\n",
       "      <th>50%</th>\n",
       "      <td>172.000000</td>\n",
       "      <td>129.000000</td>\n",
       "      <td>32.000000</td>\n",
       "      <td>22.000000</td>\n",
       "      <td>7.000000</td>\n",
       "      <td>11.000000</td>\n",
       "    </tr>\n",
       "    <tr>\n",
       "      <th>75%</th>\n",
       "      <td>225.000000</td>\n",
       "      <td>192.000000</td>\n",
       "      <td>50.000000</td>\n",
       "      <td>31.000000</td>\n",
       "      <td>11.000000</td>\n",
       "      <td>16.000000</td>\n",
       "    </tr>\n",
       "    <tr>\n",
       "      <th>max</th>\n",
       "      <td>824.000000</td>\n",
       "      <td>933.000000</td>\n",
       "      <td>195.000000</td>\n",
       "      <td>250.000000</td>\n",
       "      <td>96.000000</td>\n",
       "      <td>159.000000</td>\n",
       "    </tr>\n",
       "  </tbody>\n",
       "</table>\n",
       "</div>"
      ],
      "text/plain": [
       "              pm25         pm10           o3          no2          so2  \\\n",
       "count  3840.000000  3966.000000  3983.000000  3991.000000  3962.000000   \n",
       "mean    186.752344   153.195663    36.794376    23.919068     8.642605   \n",
       "std      80.129749    99.513972    25.764097    13.730807     6.280451   \n",
       "min      24.000000    10.000000     1.000000     1.000000     1.000000   \n",
       "25%     135.000000    84.000000    17.000000    14.500000     4.000000   \n",
       "50%     172.000000   129.000000    32.000000    22.000000     7.000000   \n",
       "75%     225.000000   192.000000    50.000000    31.000000    11.000000   \n",
       "max     824.000000   933.000000   195.000000   250.000000    96.000000   \n",
       "\n",
       "                co  \n",
       "count  3934.000000  \n",
       "mean     12.771225  \n",
       "std       9.214042  \n",
       "min       1.000000  \n",
       "25%       7.000000  \n",
       "50%      11.000000  \n",
       "75%      16.000000  \n",
       "max     159.000000  "
      ]
     },
     "execution_count": 114,
     "metadata": {},
     "output_type": "execute_result"
    }
   ],
   "source": [
    "df.describe()"
   ]
  },
  {
   "cell_type": "markdown",
   "id": "0c03b1c3",
   "metadata": {},
   "source": [
    "Feature Engineering\n"
   ]
  },
  {
   "cell_type": "code",
   "execution_count": 115,
   "id": "ad6054a7",
   "metadata": {},
   "outputs": [
    {
     "name": "stderr",
     "output_type": "stream",
     "text": [
      "C:\\Users\\akw97\\AppData\\Local\\Temp\\ipykernel_10440\\1202766690.py:4: FutureWarning:\n",
      "\n",
      "A value is trying to be set on a copy of a DataFrame or Series through chained assignment using an inplace method.\n",
      "The behavior will change in pandas 3.0. This inplace method will never work because the intermediate object on which we are setting values always behaves as a copy.\n",
      "\n",
      "For example, when doing 'df[col].method(value, inplace=True)', try using 'df.method({col: value}, inplace=True)' or df[col] = df[col].method(value) instead, to perform the operation inplace on the original object.\n",
      "\n",
      "\n",
      "\n"
     ]
    }
   ],
   "source": [
    "#Replacing null values with mean of the column\n",
    "\n",
    "for i in columns:\n",
    "    df[i].fillna(df[i].mean(), inplace=True)"
   ]
  },
  {
   "cell_type": "code",
   "execution_count": null,
   "id": "b18f482f",
   "metadata": {},
   "outputs": [
    {
     "name": "stdout",
     "output_type": "stream",
     "text": [
      "<class 'pandas.core.frame.DataFrame'>\n",
      "RangeIndex: 4063 entries, 0 to 4062\n",
      "Data columns (total 7 columns):\n",
      " #   Column  Non-Null Count  Dtype  \n",
      "---  ------  --------------  -----  \n",
      " 0   date    4063 non-null   object \n",
      " 1   pm25    4063 non-null   float64\n",
      " 2   pm10    4063 non-null   float64\n",
      " 3   o3      4063 non-null   float64\n",
      " 4   no2     4063 non-null   float64\n",
      " 5   so2     4063 non-null   float64\n",
      " 6   co      4063 non-null   float64\n",
      "dtypes: float64(6), object(1)\n",
      "memory usage: 222.3+ KB\n"
     ]
    }
   ],
   "source": [
    "#Checking if the null values were replaced successfully\n",
    "df.info()"
   ]
  },
  {
   "cell_type": "code",
   "execution_count": 117,
   "id": "83782d6e",
   "metadata": {},
   "outputs": [],
   "source": [
    "#Changing date into datretime format\n",
    "df['date'] = pd.to_datetime(df['date'], format='%Y/%m/%d')"
   ]
  },
  {
   "cell_type": "code",
   "execution_count": null,
   "id": "6f2f2fee",
   "metadata": {},
   "outputs": [
    {
     "name": "stderr",
     "output_type": "stream",
     "text": [
      "C:\\Users\\akw97\\AppData\\Local\\Temp\\ipykernel_10440\\3634961901.py:3: FutureWarning:\n",
      "\n",
      "'M' is deprecated and will be removed in a future version, please use 'ME' instead.\n",
      "\n"
     ]
    }
   ],
   "source": [
    "# Set date as index and resample for all pollutants\n",
    "monthly_df = df.copy()\n",
    "monthly_df = monthly_df.set_index('date')\n",
    "monthly_df = monthly_df.resample('M').mean().reset_index()\n"
   ]
  },
  {
   "cell_type": "code",
   "execution_count": null,
   "id": "80c99c7e",
   "metadata": {},
   "outputs": [
    {
     "name": "stdout",
     "output_type": "stream",
     "text": [
      "<class 'pandas.core.frame.DataFrame'>\n",
      "RangeIndex: 137 entries, 0 to 136\n",
      "Data columns (total 7 columns):\n",
      " #   Column  Non-Null Count  Dtype         \n",
      "---  ------  --------------  -----         \n",
      " 0   date    137 non-null    datetime64[ns]\n",
      " 1   pm25    137 non-null    float64       \n",
      " 2   pm10    137 non-null    float64       \n",
      " 3   o3      137 non-null    float64       \n",
      " 4   no2     137 non-null    float64       \n",
      " 5   so2     137 non-null    float64       \n",
      " 6   co      137 non-null    float64       \n",
      "dtypes: datetime64[ns](1), float64(6)\n",
      "memory usage: 7.6 KB\n"
     ]
    },
    {
     "data": {
      "text/html": [
       "<div>\n",
       "<style scoped>\n",
       "    .dataframe tbody tr th:only-of-type {\n",
       "        vertical-align: middle;\n",
       "    }\n",
       "\n",
       "    .dataframe tbody tr th {\n",
       "        vertical-align: top;\n",
       "    }\n",
       "\n",
       "    .dataframe thead th {\n",
       "        text-align: right;\n",
       "    }\n",
       "</style>\n",
       "<table border=\"1\" class=\"dataframe\">\n",
       "  <thead>\n",
       "    <tr style=\"text-align: right;\">\n",
       "      <th></th>\n",
       "      <th>date</th>\n",
       "      <th>pm25</th>\n",
       "      <th>pm10</th>\n",
       "      <th>o3</th>\n",
       "      <th>no2</th>\n",
       "      <th>so2</th>\n",
       "      <th>co</th>\n",
       "    </tr>\n",
       "  </thead>\n",
       "  <tbody>\n",
       "    <tr>\n",
       "      <th>0</th>\n",
       "      <td>2013-12-31</td>\n",
       "      <td>186.752344</td>\n",
       "      <td>199.000000</td>\n",
       "      <td>20.000000</td>\n",
       "      <td>45.000000</td>\n",
       "      <td>4.000000</td>\n",
       "      <td>15.000000</td>\n",
       "    </tr>\n",
       "    <tr>\n",
       "      <th>1</th>\n",
       "      <td>2014-01-31</td>\n",
       "      <td>293.691745</td>\n",
       "      <td>286.373189</td>\n",
       "      <td>18.393146</td>\n",
       "      <td>37.897302</td>\n",
       "      <td>5.254753</td>\n",
       "      <td>23.059041</td>\n",
       "    </tr>\n",
       "    <tr>\n",
       "      <th>2</th>\n",
       "      <td>2014-02-28</td>\n",
       "      <td>231.250000</td>\n",
       "      <td>218.500000</td>\n",
       "      <td>30.000000</td>\n",
       "      <td>19.142857</td>\n",
       "      <td>3.951522</td>\n",
       "      <td>17.785714</td>\n",
       "    </tr>\n",
       "    <tr>\n",
       "      <th>3</th>\n",
       "      <td>2014-03-31</td>\n",
       "      <td>163.709677</td>\n",
       "      <td>124.419355</td>\n",
       "      <td>59.677419</td>\n",
       "      <td>23.000000</td>\n",
       "      <td>8.225806</td>\n",
       "      <td>9.516129</td>\n",
       "    </tr>\n",
       "    <tr>\n",
       "      <th>4</th>\n",
       "      <td>2014-04-30</td>\n",
       "      <td>181.925078</td>\n",
       "      <td>168.639855</td>\n",
       "      <td>58.993146</td>\n",
       "      <td>20.230636</td>\n",
       "      <td>10.521420</td>\n",
       "      <td>10.825708</td>\n",
       "    </tr>\n",
       "  </tbody>\n",
       "</table>\n",
       "</div>"
      ],
      "text/plain": [
       "        date        pm25        pm10         o3        no2        so2  \\\n",
       "0 2013-12-31  186.752344  199.000000  20.000000  45.000000   4.000000   \n",
       "1 2014-01-31  293.691745  286.373189  18.393146  37.897302   5.254753   \n",
       "2 2014-02-28  231.250000  218.500000  30.000000  19.142857   3.951522   \n",
       "3 2014-03-31  163.709677  124.419355  59.677419  23.000000   8.225806   \n",
       "4 2014-04-30  181.925078  168.639855  58.993146  20.230636  10.521420   \n",
       "\n",
       "          co  \n",
       "0  15.000000  \n",
       "1  23.059041  \n",
       "2  17.785714  \n",
       "3   9.516129  \n",
       "4  10.825708  "
      ]
     },
     "execution_count": 159,
     "metadata": {},
     "output_type": "execute_result"
    }
   ],
   "source": [
    "#Checking the datafrme and its info\n",
    "monthly_df.info()\n",
    "monthly_df.head()"
   ]
  },
  {
   "cell_type": "markdown",
   "id": "dd913d5f",
   "metadata": {},
   "source": [
    "Time Series Plot for PM 2.5 pollutant on a monthly basis"
   ]
  },
  {
   "cell_type": "code",
   "execution_count": 160,
   "id": "56b84221",
   "metadata": {},
   "outputs": [
    {
     "name": "stderr",
     "output_type": "stream",
     "text": [
      "c:\\Users\\akw97\\miniconda3\\Lib\\site-packages\\plotly\\graph_objs\\_deprecations.py:378: DeprecationWarning:\n",
      "\n",
      "plotly.graph_objs.Line is deprecated.\n",
      "Please replace it with one of the following more specific types\n",
      "  - plotly.graph_objs.scatter.Line\n",
      "  - plotly.graph_objs.layout.shape.Line\n",
      "  - etc.\n",
      "\n",
      "\n"
     ]
    },
    {
     "data": {
      "application/vnd.plotly.v1+json": {
       "config": {
        "plotlyServerURL": "https://plot.ly"
       },
       "data": [
        {
         "line": {
          "color": "lightgray",
          "width": 2
         },
         "mode": "lines",
         "name": "Monthly PM2.5 Line",
         "type": "scatter",
         "x": [
          "2013-12-31T00:00:00.000000000",
          "2014-01-31T00:00:00.000000000",
          "2014-02-28T00:00:00.000000000",
          "2014-03-31T00:00:00.000000000",
          "2014-04-30T00:00:00.000000000",
          "2014-05-31T00:00:00.000000000",
          "2014-06-30T00:00:00.000000000",
          "2014-07-31T00:00:00.000000000",
          "2014-08-31T00:00:00.000000000",
          "2014-09-30T00:00:00.000000000",
          "2014-10-31T00:00:00.000000000",
          "2014-11-30T00:00:00.000000000",
          "2014-12-31T00:00:00.000000000",
          "2015-01-31T00:00:00.000000000",
          "2015-02-28T00:00:00.000000000",
          "2015-03-31T00:00:00.000000000",
          "2015-04-30T00:00:00.000000000",
          "2015-05-31T00:00:00.000000000",
          "2015-06-30T00:00:00.000000000",
          "2015-07-31T00:00:00.000000000",
          "2015-08-31T00:00:00.000000000",
          "2015-09-30T00:00:00.000000000",
          "2015-10-31T00:00:00.000000000",
          "2015-11-30T00:00:00.000000000",
          "2015-12-31T00:00:00.000000000",
          "2016-01-31T00:00:00.000000000",
          "2016-02-29T00:00:00.000000000",
          "2016-03-31T00:00:00.000000000",
          "2016-04-30T00:00:00.000000000",
          "2016-05-31T00:00:00.000000000",
          "2016-06-30T00:00:00.000000000",
          "2016-07-31T00:00:00.000000000",
          "2016-08-31T00:00:00.000000000",
          "2016-09-30T00:00:00.000000000",
          "2016-10-31T00:00:00.000000000",
          "2016-11-30T00:00:00.000000000",
          "2016-12-31T00:00:00.000000000",
          "2017-01-31T00:00:00.000000000",
          "2017-02-28T00:00:00.000000000",
          "2017-03-31T00:00:00.000000000",
          "2017-04-30T00:00:00.000000000",
          "2017-05-31T00:00:00.000000000",
          "2017-06-30T00:00:00.000000000",
          "2017-07-31T00:00:00.000000000",
          "2017-08-31T00:00:00.000000000",
          "2017-09-30T00:00:00.000000000",
          "2017-10-31T00:00:00.000000000",
          "2017-11-30T00:00:00.000000000",
          "2017-12-31T00:00:00.000000000",
          "2018-01-31T00:00:00.000000000",
          "2018-02-28T00:00:00.000000000",
          "2018-03-31T00:00:00.000000000",
          "2018-04-30T00:00:00.000000000",
          "2018-05-31T00:00:00.000000000",
          "2018-06-30T00:00:00.000000000",
          "2018-07-31T00:00:00.000000000",
          "2018-08-31T00:00:00.000000000",
          "2018-09-30T00:00:00.000000000",
          "2018-10-31T00:00:00.000000000",
          "2018-11-30T00:00:00.000000000",
          "2018-12-31T00:00:00.000000000",
          "2019-01-31T00:00:00.000000000",
          "2019-02-28T00:00:00.000000000",
          "2019-03-31T00:00:00.000000000",
          "2019-04-30T00:00:00.000000000",
          "2019-05-31T00:00:00.000000000",
          "2019-06-30T00:00:00.000000000",
          "2019-07-31T00:00:00.000000000",
          "2019-08-31T00:00:00.000000000",
          "2019-09-30T00:00:00.000000000",
          "2019-10-31T00:00:00.000000000",
          "2019-11-30T00:00:00.000000000",
          "2019-12-31T00:00:00.000000000",
          "2020-01-31T00:00:00.000000000",
          "2020-02-29T00:00:00.000000000",
          "2020-03-31T00:00:00.000000000",
          "2020-04-30T00:00:00.000000000",
          "2020-05-31T00:00:00.000000000",
          "2020-06-30T00:00:00.000000000",
          "2020-07-31T00:00:00.000000000",
          "2020-08-31T00:00:00.000000000",
          "2020-09-30T00:00:00.000000000",
          "2020-10-31T00:00:00.000000000",
          "2020-11-30T00:00:00.000000000",
          "2020-12-31T00:00:00.000000000",
          "2021-01-31T00:00:00.000000000",
          "2021-02-28T00:00:00.000000000",
          "2021-03-31T00:00:00.000000000",
          "2021-04-30T00:00:00.000000000",
          "2021-05-31T00:00:00.000000000",
          "2021-06-30T00:00:00.000000000",
          "2021-07-31T00:00:00.000000000",
          "2021-08-31T00:00:00.000000000",
          "2021-09-30T00:00:00.000000000",
          "2021-10-31T00:00:00.000000000",
          "2021-11-30T00:00:00.000000000",
          "2021-12-31T00:00:00.000000000",
          "2022-01-31T00:00:00.000000000",
          "2022-02-28T00:00:00.000000000",
          "2022-03-31T00:00:00.000000000",
          "2022-04-30T00:00:00.000000000",
          "2022-05-31T00:00:00.000000000",
          "2022-06-30T00:00:00.000000000",
          "2022-07-31T00:00:00.000000000",
          "2022-08-31T00:00:00.000000000",
          "2022-09-30T00:00:00.000000000",
          "2022-10-31T00:00:00.000000000",
          "2022-11-30T00:00:00.000000000",
          "2022-12-31T00:00:00.000000000",
          "2023-01-31T00:00:00.000000000",
          "2023-02-28T00:00:00.000000000",
          "2023-03-31T00:00:00.000000000",
          "2023-04-30T00:00:00.000000000",
          "2023-05-31T00:00:00.000000000",
          "2023-06-30T00:00:00.000000000",
          "2023-07-31T00:00:00.000000000",
          "2023-08-31T00:00:00.000000000",
          "2023-09-30T00:00:00.000000000",
          "2023-10-31T00:00:00.000000000",
          "2023-11-30T00:00:00.000000000",
          "2023-12-31T00:00:00.000000000",
          "2024-01-31T00:00:00.000000000",
          "2024-02-29T00:00:00.000000000",
          "2024-03-31T00:00:00.000000000",
          "2024-04-30T00:00:00.000000000",
          "2024-05-31T00:00:00.000000000",
          "2024-06-30T00:00:00.000000000",
          "2024-07-31T00:00:00.000000000",
          "2024-08-31T00:00:00.000000000",
          "2024-09-30T00:00:00.000000000",
          "2024-10-31T00:00:00.000000000",
          "2024-11-30T00:00:00.000000000",
          "2024-12-31T00:00:00.000000000",
          "2025-01-31T00:00:00.000000000",
          "2025-02-28T00:00:00.000000000",
          "2025-03-31T00:00:00.000000000",
          "2025-04-30T00:00:00.000000000"
         ],
         "y": {
          "bdata": "MzMzMxNYZ0AwlvxiEVtyQAAAAAAA6GxA11prrbV2ZEDXo3A9mr1mQNdaa621dmZATwnylGCkZ0DptIFOq25kQGgvob2kxWVAbaDTBnqHZEB9xVd83URvQJqZmZmZoXJA0epLBd2/cEBjjDHGGCNvQIuv+Iq3D21AZmZmZqbEY0AREREREeFjQJ1zzjnn/GVATxvotBHVY0DJ8pcsv0deQBvotIHe0WBABq2+VPARYkDQaQOdVg1oQJb8Ysl3wXJAUrgehTOVckBSuB6FM9VyQE8jLPc0AmlA77333nvvZEBERERERPRoQDrnnHPOWWdA7FG4HjVvY0B6gqMnuHZeQM4555yzBV9AAAAAAACAYUAyxhhjjLFqQO/u7u7ufnNAkngViVcqb0DhehSuZ+5vQG7btm3bzmlAAAAAAAAwZUDgBE7gxABpQBFCCCGEkGhAVVVVVVX1Y0AhhBBCCKFdQBFCCCGEUF9As2sTJRuZYkDnnHPOOUduQO/u7u7uxnNAGWOMMca4cECllFJKKRVwQJIkSZIkmWpA+N57771XZUAd8PjDYfFlQHzvvffee2VALfnFku/iYkARQgghhNBcQPjee++9t11AREREREREXkBrrbXWWgtqQN7d3d3dbXBAT3D0BNcuckC21lprrcVxQIuv+Iq352lAWfKLJd+1ZUApXI/CdQZnQNSANg0ISGhA7FG4HjVPaUDB0RMcnYlnQKWUUkrpSmdAhetRuN48Z0AeqtuhWpJpQCIiIiIiQm1AtYFOG3hLbEAAAAAAAGBoQAnLPY2wPGVA4XoUrmdOXEApXI/CNeNbQFYkXkUi1FlAIiIiIiLCVEDXWmuttdZQQGdmZmZm+VFAWfKLJd/lXECdc8455zxpQM3MzMzMJHFAW2uttda6cEDvvffee/9xQG7btm3b7mtAryLxKjLuZEBPG+i0EaVjQCmllFJKaV9AIiIiIiLiXUARQgghhJBZQNdaa621llpAZmZmZmbGVECttdZaa21cQDbQaQO9w29Avvfee++dcUAyxhhjjDFtQCVJkiRJ6mZAEUIIIYSwZUCamZmZmQlmQIwxxhhjDGRAERERERFhYUCEEEIIIYRZQGuttdZaq1hAd3d3d3d3W0CllFJKKaVlQImIiIiIqG5AlVJKKaU0b0DnnHPOOUdwQAAAAAAAsGdAvvfee++9YkCJiIiIiHhkQFNKKaWUEmRAZmZmZmYGYkDRItv5PnpdQL733nvvPWFAZmZmZmamXkCdc84557xmQO/u7u7uNnRAAAAAAACAcUBTSimllKJyQPc0wnJPo2dAKaWUUkqpY0AAAAAAAEBiQGuttdZai2VAtYFOG3h7YkDB0RMcff9fQEIIIYQQAlhA8oslv3jfXUDXWmuttfZnQGPJL5ZE5nJAk18s+VXpb0Bba6211vptQEmSJEmSZGZAE68i8UpRYkB00UUXXTRkQA==",
          "dtype": "f8"
         }
        },
        {
         "marker": {
          "color": {
           "bdata": "MzMzMxNYZ0AwlvxiEVtyQAAAAAAA6GxA11prrbV2ZEDXo3A9mr1mQNdaa621dmZATwnylGCkZ0DptIFOq25kQGgvob2kxWVAbaDTBnqHZEB9xVd83URvQJqZmZmZoXJA0epLBd2/cEBjjDHGGCNvQIuv+Iq3D21AZmZmZqbEY0AREREREeFjQJ1zzjnn/GVATxvotBHVY0DJ8pcsv0deQBvotIHe0WBABq2+VPARYkDQaQOdVg1oQJb8Ysl3wXJAUrgehTOVckBSuB6FM9VyQE8jLPc0AmlA77333nvvZEBERERERPRoQDrnnHPOWWdA7FG4HjVvY0B6gqMnuHZeQM4555yzBV9AAAAAAACAYUAyxhhjjLFqQO/u7u7ufnNAkngViVcqb0DhehSuZ+5vQG7btm3bzmlAAAAAAAAwZUDgBE7gxABpQBFCCCGEkGhAVVVVVVX1Y0AhhBBCCKFdQBFCCCGEUF9As2sTJRuZYkDnnHPOOUduQO/u7u7uxnNAGWOMMca4cECllFJKKRVwQJIkSZIkmWpA+N57771XZUAd8PjDYfFlQHzvvffee2VALfnFku/iYkARQgghhNBcQPjee++9t11AREREREREXkBrrbXWWgtqQN7d3d3dbXBAT3D0BNcuckC21lprrcVxQIuv+Iq352lAWfKLJd+1ZUApXI/CdQZnQNSANg0ISGhA7FG4HjVPaUDB0RMcnYlnQKWUUkrpSmdAhetRuN48Z0AeqtuhWpJpQCIiIiIiQm1AtYFOG3hLbEAAAAAAAGBoQAnLPY2wPGVA4XoUrmdOXEApXI/CNeNbQFYkXkUi1FlAIiIiIiLCVEDXWmuttdZQQGdmZmZm+VFAWfKLJd/lXECdc8455zxpQM3MzMzMJHFAW2uttda6cEDvvffee/9xQG7btm3b7mtAryLxKjLuZEBPG+i0EaVjQCmllFJKaV9AIiIiIiLiXUARQgghhJBZQNdaa621llpAZmZmZmbGVECttdZaa21cQDbQaQO9w29Avvfee++dcUAyxhhjjDFtQCVJkiRJ6mZAEUIIIYSwZUCamZmZmQlmQIwxxhhjDGRAERERERFhYUCEEEIIIYRZQGuttdZaq1hAd3d3d3d3W0CllFJKKaVlQImIiIiIqG5AlVJKKaU0b0DnnHPOOUdwQAAAAAAAsGdAvvfee++9YkCJiIiIiHhkQFNKKaWUEmRAZmZmZmYGYkDRItv5PnpdQL733nvvPWFAZmZmZmamXkCdc84557xmQO/u7u7uNnRAAAAAAACAcUBTSimllKJyQPc0wnJPo2dAKaWUUkqpY0AAAAAAAEBiQGuttdZai2VAtYFOG3h7YkDB0RMcff9fQEIIIYQQAlhA8oslv3jfXUDXWmuttfZnQGPJL5ZE5nJAk18s+VXpb0Bba6211vptQEmSJEmSZGZAE68i8UpRYkB00UUXXTRkQA==",
           "dtype": "f8"
          },
          "colorbar": {
           "title": {
            "text": "PM2.5"
           }
          },
          "colorscale": [
           [
            0,
            "rgb(0,104,55)"
           ],
           [
            0.1,
            "rgb(26,152,80)"
           ],
           [
            0.2,
            "rgb(102,189,99)"
           ],
           [
            0.3,
            "rgb(166,217,106)"
           ],
           [
            0.4,
            "rgb(217,239,139)"
           ],
           [
            0.5,
            "rgb(255,255,191)"
           ],
           [
            0.6,
            "rgb(254,224,139)"
           ],
           [
            0.7,
            "rgb(253,174,97)"
           ],
           [
            0.8,
            "rgb(244,109,67)"
           ],
           [
            0.9,
            "rgb(215,48,39)"
           ],
           [
            1,
            "rgb(165,0,38)"
           ]
          ],
          "showscale": true,
          "size": 12
         },
         "mode": "markers",
         "name": "PM2.5 Intensity",
         "type": "scatter",
         "x": [
          "2013-12-31T00:00:00.000000000",
          "2014-01-31T00:00:00.000000000",
          "2014-02-28T00:00:00.000000000",
          "2014-03-31T00:00:00.000000000",
          "2014-04-30T00:00:00.000000000",
          "2014-05-31T00:00:00.000000000",
          "2014-06-30T00:00:00.000000000",
          "2014-07-31T00:00:00.000000000",
          "2014-08-31T00:00:00.000000000",
          "2014-09-30T00:00:00.000000000",
          "2014-10-31T00:00:00.000000000",
          "2014-11-30T00:00:00.000000000",
          "2014-12-31T00:00:00.000000000",
          "2015-01-31T00:00:00.000000000",
          "2015-02-28T00:00:00.000000000",
          "2015-03-31T00:00:00.000000000",
          "2015-04-30T00:00:00.000000000",
          "2015-05-31T00:00:00.000000000",
          "2015-06-30T00:00:00.000000000",
          "2015-07-31T00:00:00.000000000",
          "2015-08-31T00:00:00.000000000",
          "2015-09-30T00:00:00.000000000",
          "2015-10-31T00:00:00.000000000",
          "2015-11-30T00:00:00.000000000",
          "2015-12-31T00:00:00.000000000",
          "2016-01-31T00:00:00.000000000",
          "2016-02-29T00:00:00.000000000",
          "2016-03-31T00:00:00.000000000",
          "2016-04-30T00:00:00.000000000",
          "2016-05-31T00:00:00.000000000",
          "2016-06-30T00:00:00.000000000",
          "2016-07-31T00:00:00.000000000",
          "2016-08-31T00:00:00.000000000",
          "2016-09-30T00:00:00.000000000",
          "2016-10-31T00:00:00.000000000",
          "2016-11-30T00:00:00.000000000",
          "2016-12-31T00:00:00.000000000",
          "2017-01-31T00:00:00.000000000",
          "2017-02-28T00:00:00.000000000",
          "2017-03-31T00:00:00.000000000",
          "2017-04-30T00:00:00.000000000",
          "2017-05-31T00:00:00.000000000",
          "2017-06-30T00:00:00.000000000",
          "2017-07-31T00:00:00.000000000",
          "2017-08-31T00:00:00.000000000",
          "2017-09-30T00:00:00.000000000",
          "2017-10-31T00:00:00.000000000",
          "2017-11-30T00:00:00.000000000",
          "2017-12-31T00:00:00.000000000",
          "2018-01-31T00:00:00.000000000",
          "2018-02-28T00:00:00.000000000",
          "2018-03-31T00:00:00.000000000",
          "2018-04-30T00:00:00.000000000",
          "2018-05-31T00:00:00.000000000",
          "2018-06-30T00:00:00.000000000",
          "2018-07-31T00:00:00.000000000",
          "2018-08-31T00:00:00.000000000",
          "2018-09-30T00:00:00.000000000",
          "2018-10-31T00:00:00.000000000",
          "2018-11-30T00:00:00.000000000",
          "2018-12-31T00:00:00.000000000",
          "2019-01-31T00:00:00.000000000",
          "2019-02-28T00:00:00.000000000",
          "2019-03-31T00:00:00.000000000",
          "2019-04-30T00:00:00.000000000",
          "2019-05-31T00:00:00.000000000",
          "2019-06-30T00:00:00.000000000",
          "2019-07-31T00:00:00.000000000",
          "2019-08-31T00:00:00.000000000",
          "2019-09-30T00:00:00.000000000",
          "2019-10-31T00:00:00.000000000",
          "2019-11-30T00:00:00.000000000",
          "2019-12-31T00:00:00.000000000",
          "2020-01-31T00:00:00.000000000",
          "2020-02-29T00:00:00.000000000",
          "2020-03-31T00:00:00.000000000",
          "2020-04-30T00:00:00.000000000",
          "2020-05-31T00:00:00.000000000",
          "2020-06-30T00:00:00.000000000",
          "2020-07-31T00:00:00.000000000",
          "2020-08-31T00:00:00.000000000",
          "2020-09-30T00:00:00.000000000",
          "2020-10-31T00:00:00.000000000",
          "2020-11-30T00:00:00.000000000",
          "2020-12-31T00:00:00.000000000",
          "2021-01-31T00:00:00.000000000",
          "2021-02-28T00:00:00.000000000",
          "2021-03-31T00:00:00.000000000",
          "2021-04-30T00:00:00.000000000",
          "2021-05-31T00:00:00.000000000",
          "2021-06-30T00:00:00.000000000",
          "2021-07-31T00:00:00.000000000",
          "2021-08-31T00:00:00.000000000",
          "2021-09-30T00:00:00.000000000",
          "2021-10-31T00:00:00.000000000",
          "2021-11-30T00:00:00.000000000",
          "2021-12-31T00:00:00.000000000",
          "2022-01-31T00:00:00.000000000",
          "2022-02-28T00:00:00.000000000",
          "2022-03-31T00:00:00.000000000",
          "2022-04-30T00:00:00.000000000",
          "2022-05-31T00:00:00.000000000",
          "2022-06-30T00:00:00.000000000",
          "2022-07-31T00:00:00.000000000",
          "2022-08-31T00:00:00.000000000",
          "2022-09-30T00:00:00.000000000",
          "2022-10-31T00:00:00.000000000",
          "2022-11-30T00:00:00.000000000",
          "2022-12-31T00:00:00.000000000",
          "2023-01-31T00:00:00.000000000",
          "2023-02-28T00:00:00.000000000",
          "2023-03-31T00:00:00.000000000",
          "2023-04-30T00:00:00.000000000",
          "2023-05-31T00:00:00.000000000",
          "2023-06-30T00:00:00.000000000",
          "2023-07-31T00:00:00.000000000",
          "2023-08-31T00:00:00.000000000",
          "2023-09-30T00:00:00.000000000",
          "2023-10-31T00:00:00.000000000",
          "2023-11-30T00:00:00.000000000",
          "2023-12-31T00:00:00.000000000",
          "2024-01-31T00:00:00.000000000",
          "2024-02-29T00:00:00.000000000",
          "2024-03-31T00:00:00.000000000",
          "2024-04-30T00:00:00.000000000",
          "2024-05-31T00:00:00.000000000",
          "2024-06-30T00:00:00.000000000",
          "2024-07-31T00:00:00.000000000",
          "2024-08-31T00:00:00.000000000",
          "2024-09-30T00:00:00.000000000",
          "2024-10-31T00:00:00.000000000",
          "2024-11-30T00:00:00.000000000",
          "2024-12-31T00:00:00.000000000",
          "2025-01-31T00:00:00.000000000",
          "2025-02-28T00:00:00.000000000",
          "2025-03-31T00:00:00.000000000",
          "2025-04-30T00:00:00.000000000"
         ],
         "y": {
          "bdata": "MzMzMxNYZ0AwlvxiEVtyQAAAAAAA6GxA11prrbV2ZEDXo3A9mr1mQNdaa621dmZATwnylGCkZ0DptIFOq25kQGgvob2kxWVAbaDTBnqHZEB9xVd83URvQJqZmZmZoXJA0epLBd2/cEBjjDHGGCNvQIuv+Iq3D21AZmZmZqbEY0AREREREeFjQJ1zzjnn/GVATxvotBHVY0DJ8pcsv0deQBvotIHe0WBABq2+VPARYkDQaQOdVg1oQJb8Ysl3wXJAUrgehTOVckBSuB6FM9VyQE8jLPc0AmlA77333nvvZEBERERERPRoQDrnnHPOWWdA7FG4HjVvY0B6gqMnuHZeQM4555yzBV9AAAAAAACAYUAyxhhjjLFqQO/u7u7ufnNAkngViVcqb0DhehSuZ+5vQG7btm3bzmlAAAAAAAAwZUDgBE7gxABpQBFCCCGEkGhAVVVVVVX1Y0AhhBBCCKFdQBFCCCGEUF9As2sTJRuZYkDnnHPOOUduQO/u7u7uxnNAGWOMMca4cECllFJKKRVwQJIkSZIkmWpA+N57771XZUAd8PjDYfFlQHzvvffee2VALfnFku/iYkARQgghhNBcQPjee++9t11AREREREREXkBrrbXWWgtqQN7d3d3dbXBAT3D0BNcuckC21lprrcVxQIuv+Iq352lAWfKLJd+1ZUApXI/CdQZnQNSANg0ISGhA7FG4HjVPaUDB0RMcnYlnQKWUUkrpSmdAhetRuN48Z0AeqtuhWpJpQCIiIiIiQm1AtYFOG3hLbEAAAAAAAGBoQAnLPY2wPGVA4XoUrmdOXEApXI/CNeNbQFYkXkUi1FlAIiIiIiLCVEDXWmuttdZQQGdmZmZm+VFAWfKLJd/lXECdc8455zxpQM3MzMzMJHFAW2uttda6cEDvvffee/9xQG7btm3b7mtAryLxKjLuZEBPG+i0EaVjQCmllFJKaV9AIiIiIiLiXUARQgghhJBZQNdaa621llpAZmZmZmbGVECttdZaa21cQDbQaQO9w29Avvfee++dcUAyxhhjjDFtQCVJkiRJ6mZAEUIIIYSwZUCamZmZmQlmQIwxxhhjDGRAERERERFhYUCEEEIIIYRZQGuttdZaq1hAd3d3d3d3W0CllFJKKaVlQImIiIiIqG5AlVJKKaU0b0DnnHPOOUdwQAAAAAAAsGdAvvfee++9YkCJiIiIiHhkQFNKKaWUEmRAZmZmZmYGYkDRItv5PnpdQL733nvvPWFAZmZmZmamXkCdc84557xmQO/u7u7uNnRAAAAAAACAcUBTSimllKJyQPc0wnJPo2dAKaWUUkqpY0AAAAAAAEBiQGuttdZai2VAtYFOG3h7YkDB0RMcff9fQEIIIYQQAlhA8oslv3jfXUDXWmuttfZnQGPJL5ZE5nJAk18s+VXpb0Bba6211vptQEmSJEmSZGZAE68i8UpRYkB00UUXXTRkQA==",
          "dtype": "f8"
         }
        }
       ],
       "layout": {
        "annotations": [
         {
          "arrowhead": 2,
          "ax": 0,
          "ay": -30,
          "bgcolor": "red",
          "font": {
           "color": "white"
          },
          "showarrow": true,
          "text": "🚨 293.7",
          "x": "2014-01-31T00:00:00",
          "y": 293.6917447916667
         },
         {
          "arrowhead": 2,
          "ax": 0,
          "ay": -30,
          "bgcolor": "red",
          "font": {
           "color": "white"
          },
          "showarrow": true,
          "text": "🚨 231.2",
          "x": "2014-02-28T00:00:00",
          "y": 231.25
         },
         {
          "arrowhead": 2,
          "ax": 0,
          "ay": -30,
          "bgcolor": "red",
          "font": {
           "color": "white"
          },
          "showarrow": true,
          "text": "🚨 250.2",
          "x": "2014-10-31T00:00:00",
          "y": 250.15203683035716
         },
         {
          "arrowhead": 2,
          "ax": 0,
          "ay": -30,
          "bgcolor": "red",
          "font": {
           "color": "white"
          },
          "showarrow": true,
          "text": "🚨 298.1",
          "x": "2014-11-30T00:00:00",
          "y": 298.1
         },
         {
          "arrowhead": 2,
          "ax": 0,
          "ay": -30,
          "bgcolor": "red",
          "font": {
           "color": "white"
          },
          "showarrow": true,
          "text": "🚨 268.0",
          "x": "2014-12-31T00:00:00",
          "y": 267.9914601293104
         },
         {
          "arrowhead": 2,
          "ax": 0,
          "ay": -30,
          "bgcolor": "red",
          "font": {
           "color": "white"
          },
          "showarrow": true,
          "text": "🚨 249.1",
          "x": "2015-01-31T00:00:00",
          "y": 249.09677419354838
         },
         {
          "arrowhead": 2,
          "ax": 0,
          "ay": -30,
          "bgcolor": "red",
          "font": {
           "color": "white"
          },
          "showarrow": true,
          "text": "🚨 232.5",
          "x": "2015-02-28T00:00:00",
          "y": 232.49115513392857
         },
         {
          "arrowhead": 2,
          "ax": 0,
          "ay": -30,
          "bgcolor": "red",
          "font": {
           "color": "white"
          },
          "showarrow": true,
          "text": "🚨 300.1",
          "x": "2015-11-30T00:00:00",
          "y": 300.09174479166666
         },
         {
          "arrowhead": 2,
          "ax": 0,
          "ay": -30,
          "bgcolor": "red",
          "font": {
           "color": "white"
          },
          "showarrow": true,
          "text": "🚨 297.3",
          "x": "2015-12-31T00:00:00",
          "y": 297.325078125
         },
         {
          "arrowhead": 2,
          "ax": 0,
          "ay": -30,
          "bgcolor": "red",
          "font": {
           "color": "white"
          },
          "showarrow": true,
          "text": "🚨 301.3",
          "x": "2016-01-31T00:00:00",
          "y": 301.325078125
         },
         {
          "arrowhead": 2,
          "ax": 0,
          "ay": -30,
          "bgcolor": "red",
          "font": {
           "color": "white"
          },
          "showarrow": true,
          "text": "🚨 200.1",
          "x": "2016-02-29T00:00:00",
          "y": 200.06896551724137
         },
         {
          "arrowhead": 2,
          "ax": 0,
          "ay": -30,
          "bgcolor": "red",
          "font": {
           "color": "white"
          },
          "showarrow": true,
          "text": "🚨 213.5",
          "x": "2016-10-31T00:00:00",
          "y": 213.5483870967742
         },
         {
          "arrowhead": 2,
          "ax": 0,
          "ay": -30,
          "bgcolor": "red",
          "font": {
           "color": "white"
          },
          "showarrow": true,
          "text": "🚨 311.9",
          "x": "2016-11-30T00:00:00",
          "y": 311.93333333333334
         },
         {
          "arrowhead": 2,
          "ax": 0,
          "ay": -30,
          "bgcolor": "red",
          "font": {
           "color": "white"
          },
          "showarrow": true,
          "text": "🚨 249.3",
          "x": "2016-12-31T00:00:00",
          "y": 249.323185483871
         },
         {
          "arrowhead": 2,
          "ax": 0,
          "ay": -30,
          "bgcolor": "red",
          "font": {
           "color": "white"
          },
          "showarrow": true,
          "text": "🚨 255.5",
          "x": "2017-01-31T00:00:00",
          "y": 255.45015625
         },
         {
          "arrowhead": 2,
          "ax": 0,
          "ay": -30,
          "bgcolor": "red",
          "font": {
           "color": "white"
          },
          "showarrow": true,
          "text": "🚨 206.5",
          "x": "2017-02-28T00:00:00",
          "y": 206.46428571428572
         },
         {
          "arrowhead": 2,
          "ax": 0,
          "ay": -30,
          "bgcolor": "red",
          "font": {
           "color": "white"
          },
          "showarrow": true,
          "text": "🚨 200.0",
          "x": "2017-04-30T00:00:00",
          "y": 200.02403273809523
         },
         {
          "arrowhead": 2,
          "ax": 0,
          "ay": -30,
          "bgcolor": "red",
          "font": {
           "color": "white"
          },
          "showarrow": true,
          "text": "🚨 242.2",
          "x": "2017-10-31T00:00:00",
          "y": 242.2258064516129
         },
         {
          "arrowhead": 2,
          "ax": 0,
          "ay": -30,
          "bgcolor": "red",
          "font": {
           "color": "white"
          },
          "showarrow": true,
          "text": "🚨 316.4",
          "x": "2017-11-30T00:00:00",
          "y": 316.43333333333334
         },
         {
          "arrowhead": 2,
          "ax": 0,
          "ay": -30,
          "bgcolor": "red",
          "font": {
           "color": "white"
          },
          "showarrow": true,
          "text": "🚨 267.5",
          "x": "2017-12-31T00:00:00",
          "y": 267.5483870967742
         },
         {
          "arrowhead": 2,
          "ax": 0,
          "ay": -30,
          "bgcolor": "red",
          "font": {
           "color": "white"
          },
          "showarrow": true,
          "text": "🚨 257.3",
          "x": "2018-01-31T00:00:00",
          "y": 257.3225806451613
         },
         {
          "arrowhead": 2,
          "ax": 0,
          "ay": -30,
          "bgcolor": "red",
          "font": {
           "color": "white"
          },
          "showarrow": true,
          "text": "🚨 212.8",
          "x": "2018-02-28T00:00:00",
          "y": 212.78571428571428
         },
         {
          "arrowhead": 2,
          "ax": 0,
          "ay": -30,
          "bgcolor": "red",
          "font": {
           "color": "white"
          },
          "showarrow": true,
          "text": "🚨 208.4",
          "x": "2018-10-31T00:00:00",
          "y": 208.3548387096774
         },
         {
          "arrowhead": 2,
          "ax": 0,
          "ay": -30,
          "bgcolor": "red",
          "font": {
           "color": "white"
          },
          "showarrow": true,
          "text": "🚨 262.9",
          "x": "2018-11-30T00:00:00",
          "y": 262.8666666666667
         },
         {
          "arrowhead": 2,
          "ax": 0,
          "ay": -30,
          "bgcolor": "red",
          "font": {
           "color": "white"
          },
          "showarrow": true,
          "text": "🚨 290.9",
          "x": "2018-12-31T00:00:00",
          "y": 290.9274949596774
         },
         {
          "arrowhead": 2,
          "ax": 0,
          "ay": -30,
          "bgcolor": "red",
          "font": {
           "color": "white"
          },
          "showarrow": true,
          "text": "🚨 284.4",
          "x": "2019-01-31T00:00:00",
          "y": 284.35483870967744
         },
         {
          "arrowhead": 2,
          "ax": 0,
          "ay": -30,
          "bgcolor": "red",
          "font": {
           "color": "white"
          },
          "showarrow": true,
          "text": "🚨 207.2",
          "x": "2019-02-28T00:00:00",
          "y": 207.24115513392857
         },
         {
          "arrowhead": 2,
          "ax": 0,
          "ay": -30,
          "bgcolor": "red",
          "font": {
           "color": "white"
          },
          "showarrow": true,
          "text": "🚨 202.5",
          "x": "2019-06-30T00:00:00",
          "y": 202.475234375
         },
         {
          "arrowhead": 2,
          "ax": 0,
          "ay": -30,
          "bgcolor": "red",
          "font": {
           "color": "white"
          },
          "showarrow": true,
          "text": "🚨 204.6",
          "x": "2019-10-31T00:00:00",
          "y": 204.57356350806452
         },
         {
          "arrowhead": 2,
          "ax": 0,
          "ay": -30,
          "bgcolor": "red",
          "font": {
           "color": "white"
          },
          "showarrow": true,
          "text": "🚨 234.1",
          "x": "2019-11-30T00:00:00",
          "y": 234.06666666666666
         },
         {
          "arrowhead": 2,
          "ax": 0,
          "ay": -30,
          "bgcolor": "red",
          "font": {
           "color": "white"
          },
          "showarrow": true,
          "text": "🚨 226.4",
          "x": "2019-12-31T00:00:00",
          "y": 226.35841145833334
         },
         {
          "arrowhead": 2,
          "ax": 0,
          "ay": -30,
          "bgcolor": "red",
          "font": {
           "color": "white"
          },
          "showarrow": true,
          "text": "🚨 201.9",
          "x": "2020-10-31T00:00:00",
          "y": 201.90322580645162
         },
         {
          "arrowhead": 2,
          "ax": 0,
          "ay": -30,
          "bgcolor": "red",
          "font": {
           "color": "white"
          },
          "showarrow": true,
          "text": "🚨 274.3",
          "x": "2020-11-30T00:00:00",
          "y": 274.3
         },
         {
          "arrowhead": 2,
          "ax": 0,
          "ay": -30,
          "bgcolor": "red",
          "font": {
           "color": "white"
          },
          "showarrow": true,
          "text": "🚨 267.7",
          "x": "2020-12-31T00:00:00",
          "y": 267.6774193548387
         },
         {
          "arrowhead": 2,
          "ax": 0,
          "ay": -30,
          "bgcolor": "red",
          "font": {
           "color": "white"
          },
          "showarrow": true,
          "text": "🚨 288.0",
          "x": "2021-01-31T00:00:00",
          "y": 287.96774193548384
         },
         {
          "arrowhead": 2,
          "ax": 0,
          "ay": -30,
          "bgcolor": "red",
          "font": {
           "color": "white"
          },
          "showarrow": true,
          "text": "🚨 223.5",
          "x": "2021-02-28T00:00:00",
          "y": 223.46428571428572
         },
         {
          "arrowhead": 2,
          "ax": 0,
          "ay": -30,
          "bgcolor": "red",
          "font": {
           "color": "white"
          },
          "showarrow": true,
          "text": "🚨 254.1",
          "x": "2021-11-30T00:00:00",
          "y": 254.11682291666665
         },
         {
          "arrowhead": 2,
          "ax": 0,
          "ay": -30,
          "bgcolor": "red",
          "font": {
           "color": "white"
          },
          "showarrow": true,
          "text": "🚨 281.9",
          "x": "2021-12-31T00:00:00",
          "y": 281.8709677419355
         },
         {
          "arrowhead": 2,
          "ax": 0,
          "ay": -30,
          "bgcolor": "red",
          "font": {
           "color": "white"
          },
          "showarrow": true,
          "text": "🚨 233.5",
          "x": "2022-01-31T00:00:00",
          "y": 233.5483870967742
         },
         {
          "arrowhead": 2,
          "ax": 0,
          "ay": -30,
          "bgcolor": "red",
          "font": {
           "color": "white"
          },
          "showarrow": true,
          "text": "🚨 245.3",
          "x": "2022-11-30T00:00:00",
          "y": 245.26666666666668
         },
         {
          "arrowhead": 2,
          "ax": 0,
          "ay": -30,
          "bgcolor": "red",
          "font": {
           "color": "white"
          },
          "showarrow": true,
          "text": "🚨 249.6",
          "x": "2022-12-31T00:00:00",
          "y": 249.6451612903226
         },
         {
          "arrowhead": 2,
          "ax": 0,
          "ay": -30,
          "bgcolor": "red",
          "font": {
           "color": "white"
          },
          "showarrow": true,
          "text": "🚨 260.5",
          "x": "2023-01-31T00:00:00",
          "y": 260.4516129032258
         },
         {
          "arrowhead": 2,
          "ax": 0,
          "ay": -30,
          "bgcolor": "red",
          "font": {
           "color": "white"
          },
          "showarrow": true,
          "text": "🚨 323.4",
          "x": "2023-11-30T00:00:00",
          "y": 323.43333333333334
         },
         {
          "arrowhead": 2,
          "ax": 0,
          "ay": -30,
          "bgcolor": "red",
          "font": {
           "color": "white"
          },
          "showarrow": true,
          "text": "🚨 280.0",
          "x": "2023-12-31T00:00:00",
          "y": 280
         },
         {
          "arrowhead": 2,
          "ax": 0,
          "ay": -30,
          "bgcolor": "red",
          "font": {
           "color": "white"
          },
          "showarrow": true,
          "text": "🚨 298.2",
          "x": "2024-01-31T00:00:00",
          "y": 298.16129032258067
         },
         {
          "arrowhead": 2,
          "ax": 0,
          "ay": -30,
          "bgcolor": "red",
          "font": {
           "color": "white"
          },
          "showarrow": true,
          "text": "🚨 302.4",
          "x": "2024-11-30T00:00:00",
          "y": 302.39174479166667
         },
         {
          "arrowhead": 2,
          "ax": 0,
          "ay": -30,
          "bgcolor": "red",
          "font": {
           "color": "white"
          },
          "showarrow": true,
          "text": "🚨 255.3",
          "x": "2024-12-31T00:00:00",
          "y": 255.29174479166667
         },
         {
          "arrowhead": 2,
          "ax": 0,
          "ay": -30,
          "bgcolor": "red",
          "font": {
           "color": "white"
          },
          "showarrow": true,
          "text": "🚨 239.8",
          "x": "2025-01-31T00:00:00",
          "y": 239.83870967741936
         }
        ],
        "font": {
         "family": "Arial",
         "size": 14
        },
        "height": 600,
        "hovermode": "x unified",
        "margin": {
         "b": 40,
         "l": 50,
         "r": 50,
         "t": 60
        },
        "template": {
         "data": {
          "bar": [
           {
            "error_x": {
             "color": "#2a3f5f"
            },
            "error_y": {
             "color": "#2a3f5f"
            },
            "marker": {
             "line": {
              "color": "white",
              "width": 0.5
             },
             "pattern": {
              "fillmode": "overlay",
              "size": 10,
              "solidity": 0.2
             }
            },
            "type": "bar"
           }
          ],
          "barpolar": [
           {
            "marker": {
             "line": {
              "color": "white",
              "width": 0.5
             },
             "pattern": {
              "fillmode": "overlay",
              "size": 10,
              "solidity": 0.2
             }
            },
            "type": "barpolar"
           }
          ],
          "carpet": [
           {
            "aaxis": {
             "endlinecolor": "#2a3f5f",
             "gridcolor": "#C8D4E3",
             "linecolor": "#C8D4E3",
             "minorgridcolor": "#C8D4E3",
             "startlinecolor": "#2a3f5f"
            },
            "baxis": {
             "endlinecolor": "#2a3f5f",
             "gridcolor": "#C8D4E3",
             "linecolor": "#C8D4E3",
             "minorgridcolor": "#C8D4E3",
             "startlinecolor": "#2a3f5f"
            },
            "type": "carpet"
           }
          ],
          "choropleth": [
           {
            "colorbar": {
             "outlinewidth": 0,
             "ticks": ""
            },
            "type": "choropleth"
           }
          ],
          "contour": [
           {
            "colorbar": {
             "outlinewidth": 0,
             "ticks": ""
            },
            "colorscale": [
             [
              0,
              "#0d0887"
             ],
             [
              0.1111111111111111,
              "#46039f"
             ],
             [
              0.2222222222222222,
              "#7201a8"
             ],
             [
              0.3333333333333333,
              "#9c179e"
             ],
             [
              0.4444444444444444,
              "#bd3786"
             ],
             [
              0.5555555555555556,
              "#d8576b"
             ],
             [
              0.6666666666666666,
              "#ed7953"
             ],
             [
              0.7777777777777778,
              "#fb9f3a"
             ],
             [
              0.8888888888888888,
              "#fdca26"
             ],
             [
              1,
              "#f0f921"
             ]
            ],
            "type": "contour"
           }
          ],
          "contourcarpet": [
           {
            "colorbar": {
             "outlinewidth": 0,
             "ticks": ""
            },
            "type": "contourcarpet"
           }
          ],
          "heatmap": [
           {
            "colorbar": {
             "outlinewidth": 0,
             "ticks": ""
            },
            "colorscale": [
             [
              0,
              "#0d0887"
             ],
             [
              0.1111111111111111,
              "#46039f"
             ],
             [
              0.2222222222222222,
              "#7201a8"
             ],
             [
              0.3333333333333333,
              "#9c179e"
             ],
             [
              0.4444444444444444,
              "#bd3786"
             ],
             [
              0.5555555555555556,
              "#d8576b"
             ],
             [
              0.6666666666666666,
              "#ed7953"
             ],
             [
              0.7777777777777778,
              "#fb9f3a"
             ],
             [
              0.8888888888888888,
              "#fdca26"
             ],
             [
              1,
              "#f0f921"
             ]
            ],
            "type": "heatmap"
           }
          ],
          "histogram": [
           {
            "marker": {
             "pattern": {
              "fillmode": "overlay",
              "size": 10,
              "solidity": 0.2
             }
            },
            "type": "histogram"
           }
          ],
          "histogram2d": [
           {
            "colorbar": {
             "outlinewidth": 0,
             "ticks": ""
            },
            "colorscale": [
             [
              0,
              "#0d0887"
             ],
             [
              0.1111111111111111,
              "#46039f"
             ],
             [
              0.2222222222222222,
              "#7201a8"
             ],
             [
              0.3333333333333333,
              "#9c179e"
             ],
             [
              0.4444444444444444,
              "#bd3786"
             ],
             [
              0.5555555555555556,
              "#d8576b"
             ],
             [
              0.6666666666666666,
              "#ed7953"
             ],
             [
              0.7777777777777778,
              "#fb9f3a"
             ],
             [
              0.8888888888888888,
              "#fdca26"
             ],
             [
              1,
              "#f0f921"
             ]
            ],
            "type": "histogram2d"
           }
          ],
          "histogram2dcontour": [
           {
            "colorbar": {
             "outlinewidth": 0,
             "ticks": ""
            },
            "colorscale": [
             [
              0,
              "#0d0887"
             ],
             [
              0.1111111111111111,
              "#46039f"
             ],
             [
              0.2222222222222222,
              "#7201a8"
             ],
             [
              0.3333333333333333,
              "#9c179e"
             ],
             [
              0.4444444444444444,
              "#bd3786"
             ],
             [
              0.5555555555555556,
              "#d8576b"
             ],
             [
              0.6666666666666666,
              "#ed7953"
             ],
             [
              0.7777777777777778,
              "#fb9f3a"
             ],
             [
              0.8888888888888888,
              "#fdca26"
             ],
             [
              1,
              "#f0f921"
             ]
            ],
            "type": "histogram2dcontour"
           }
          ],
          "mesh3d": [
           {
            "colorbar": {
             "outlinewidth": 0,
             "ticks": ""
            },
            "type": "mesh3d"
           }
          ],
          "parcoords": [
           {
            "line": {
             "colorbar": {
              "outlinewidth": 0,
              "ticks": ""
             }
            },
            "type": "parcoords"
           }
          ],
          "pie": [
           {
            "automargin": true,
            "type": "pie"
           }
          ],
          "scatter": [
           {
            "fillpattern": {
             "fillmode": "overlay",
             "size": 10,
             "solidity": 0.2
            },
            "type": "scatter"
           }
          ],
          "scatter3d": [
           {
            "line": {
             "colorbar": {
              "outlinewidth": 0,
              "ticks": ""
             }
            },
            "marker": {
             "colorbar": {
              "outlinewidth": 0,
              "ticks": ""
             }
            },
            "type": "scatter3d"
           }
          ],
          "scattercarpet": [
           {
            "marker": {
             "colorbar": {
              "outlinewidth": 0,
              "ticks": ""
             }
            },
            "type": "scattercarpet"
           }
          ],
          "scattergeo": [
           {
            "marker": {
             "colorbar": {
              "outlinewidth": 0,
              "ticks": ""
             }
            },
            "type": "scattergeo"
           }
          ],
          "scattergl": [
           {
            "marker": {
             "colorbar": {
              "outlinewidth": 0,
              "ticks": ""
             }
            },
            "type": "scattergl"
           }
          ],
          "scattermap": [
           {
            "marker": {
             "colorbar": {
              "outlinewidth": 0,
              "ticks": ""
             }
            },
            "type": "scattermap"
           }
          ],
          "scattermapbox": [
           {
            "marker": {
             "colorbar": {
              "outlinewidth": 0,
              "ticks": ""
             }
            },
            "type": "scattermapbox"
           }
          ],
          "scatterpolar": [
           {
            "marker": {
             "colorbar": {
              "outlinewidth": 0,
              "ticks": ""
             }
            },
            "type": "scatterpolar"
           }
          ],
          "scatterpolargl": [
           {
            "marker": {
             "colorbar": {
              "outlinewidth": 0,
              "ticks": ""
             }
            },
            "type": "scatterpolargl"
           }
          ],
          "scatterternary": [
           {
            "marker": {
             "colorbar": {
              "outlinewidth": 0,
              "ticks": ""
             }
            },
            "type": "scatterternary"
           }
          ],
          "surface": [
           {
            "colorbar": {
             "outlinewidth": 0,
             "ticks": ""
            },
            "colorscale": [
             [
              0,
              "#0d0887"
             ],
             [
              0.1111111111111111,
              "#46039f"
             ],
             [
              0.2222222222222222,
              "#7201a8"
             ],
             [
              0.3333333333333333,
              "#9c179e"
             ],
             [
              0.4444444444444444,
              "#bd3786"
             ],
             [
              0.5555555555555556,
              "#d8576b"
             ],
             [
              0.6666666666666666,
              "#ed7953"
             ],
             [
              0.7777777777777778,
              "#fb9f3a"
             ],
             [
              0.8888888888888888,
              "#fdca26"
             ],
             [
              1,
              "#f0f921"
             ]
            ],
            "type": "surface"
           }
          ],
          "table": [
           {
            "cells": {
             "fill": {
              "color": "#EBF0F8"
             },
             "line": {
              "color": "white"
             }
            },
            "header": {
             "fill": {
              "color": "#C8D4E3"
             },
             "line": {
              "color": "white"
             }
            },
            "type": "table"
           }
          ]
         },
         "layout": {
          "annotationdefaults": {
           "arrowcolor": "#2a3f5f",
           "arrowhead": 0,
           "arrowwidth": 1
          },
          "autotypenumbers": "strict",
          "coloraxis": {
           "colorbar": {
            "outlinewidth": 0,
            "ticks": ""
           }
          },
          "colorscale": {
           "diverging": [
            [
             0,
             "#8e0152"
            ],
            [
             0.1,
             "#c51b7d"
            ],
            [
             0.2,
             "#de77ae"
            ],
            [
             0.3,
             "#f1b6da"
            ],
            [
             0.4,
             "#fde0ef"
            ],
            [
             0.5,
             "#f7f7f7"
            ],
            [
             0.6,
             "#e6f5d0"
            ],
            [
             0.7,
             "#b8e186"
            ],
            [
             0.8,
             "#7fbc41"
            ],
            [
             0.9,
             "#4d9221"
            ],
            [
             1,
             "#276419"
            ]
           ],
           "sequential": [
            [
             0,
             "#0d0887"
            ],
            [
             0.1111111111111111,
             "#46039f"
            ],
            [
             0.2222222222222222,
             "#7201a8"
            ],
            [
             0.3333333333333333,
             "#9c179e"
            ],
            [
             0.4444444444444444,
             "#bd3786"
            ],
            [
             0.5555555555555556,
             "#d8576b"
            ],
            [
             0.6666666666666666,
             "#ed7953"
            ],
            [
             0.7777777777777778,
             "#fb9f3a"
            ],
            [
             0.8888888888888888,
             "#fdca26"
            ],
            [
             1,
             "#f0f921"
            ]
           ],
           "sequentialminus": [
            [
             0,
             "#0d0887"
            ],
            [
             0.1111111111111111,
             "#46039f"
            ],
            [
             0.2222222222222222,
             "#7201a8"
            ],
            [
             0.3333333333333333,
             "#9c179e"
            ],
            [
             0.4444444444444444,
             "#bd3786"
            ],
            [
             0.5555555555555556,
             "#d8576b"
            ],
            [
             0.6666666666666666,
             "#ed7953"
            ],
            [
             0.7777777777777778,
             "#fb9f3a"
            ],
            [
             0.8888888888888888,
             "#fdca26"
            ],
            [
             1,
             "#f0f921"
            ]
           ]
          },
          "colorway": [
           "#636efa",
           "#EF553B",
           "#00cc96",
           "#ab63fa",
           "#FFA15A",
           "#19d3f3",
           "#FF6692",
           "#B6E880",
           "#FF97FF",
           "#FECB52"
          ],
          "font": {
           "color": "#2a3f5f"
          },
          "geo": {
           "bgcolor": "white",
           "lakecolor": "white",
           "landcolor": "white",
           "showlakes": true,
           "showland": true,
           "subunitcolor": "#C8D4E3"
          },
          "hoverlabel": {
           "align": "left"
          },
          "hovermode": "closest",
          "mapbox": {
           "style": "light"
          },
          "paper_bgcolor": "white",
          "plot_bgcolor": "white",
          "polar": {
           "angularaxis": {
            "gridcolor": "#EBF0F8",
            "linecolor": "#EBF0F8",
            "ticks": ""
           },
           "bgcolor": "white",
           "radialaxis": {
            "gridcolor": "#EBF0F8",
            "linecolor": "#EBF0F8",
            "ticks": ""
           }
          },
          "scene": {
           "xaxis": {
            "backgroundcolor": "white",
            "gridcolor": "#DFE8F3",
            "gridwidth": 2,
            "linecolor": "#EBF0F8",
            "showbackground": true,
            "ticks": "",
            "zerolinecolor": "#EBF0F8"
           },
           "yaxis": {
            "backgroundcolor": "white",
            "gridcolor": "#DFE8F3",
            "gridwidth": 2,
            "linecolor": "#EBF0F8",
            "showbackground": true,
            "ticks": "",
            "zerolinecolor": "#EBF0F8"
           },
           "zaxis": {
            "backgroundcolor": "white",
            "gridcolor": "#DFE8F3",
            "gridwidth": 2,
            "linecolor": "#EBF0F8",
            "showbackground": true,
            "ticks": "",
            "zerolinecolor": "#EBF0F8"
           }
          },
          "shapedefaults": {
           "line": {
            "color": "#2a3f5f"
           }
          },
          "ternary": {
           "aaxis": {
            "gridcolor": "#DFE8F3",
            "linecolor": "#A2B1C6",
            "ticks": ""
           },
           "baxis": {
            "gridcolor": "#DFE8F3",
            "linecolor": "#A2B1C6",
            "ticks": ""
           },
           "bgcolor": "white",
           "caxis": {
            "gridcolor": "#DFE8F3",
            "linecolor": "#A2B1C6",
            "ticks": ""
           }
          },
          "title": {
           "x": 0.05
          },
          "xaxis": {
           "automargin": true,
           "gridcolor": "#EBF0F8",
           "linecolor": "#EBF0F8",
           "ticks": "",
           "title": {
            "standoff": 15
           },
           "zerolinecolor": "#EBF0F8",
           "zerolinewidth": 2
          },
          "yaxis": {
           "automargin": true,
           "gridcolor": "#EBF0F8",
           "linecolor": "#EBF0F8",
           "ticks": "",
           "title": {
            "standoff": 15
           },
           "zerolinecolor": "#EBF0F8",
           "zerolinewidth": 2
          }
         }
        },
        "title": {
         "text": "🌫️ Monthly PM2.5 Levels",
         "x": 0.5
        },
        "xaxis": {
         "title": {
          "text": "Date"
         }
        },
        "yaxis": {
         "title": {
          "text": "PM2.5 (µg/m³)"
         }
        }
       }
      }
     },
     "metadata": {},
     "output_type": "display_data"
    }
   ],
   "source": [
    "# Spike detection threshold\n",
    "spike_threshold = 100\n",
    "spikes = monthly_df[monthly_df['pm25'] > spike_threshold]\n",
    "\n",
    "# Create figure\n",
    "fig = go.Figure()\n",
    "\n",
    "# Add solid line (constant color)\n",
    "fig.add_trace(go.Scatter(\n",
    "    x=monthly_df['date'],\n",
    "    y=monthly_df['pm25'],\n",
    "    mode='lines',\n",
    "    line=dict(color='lightgray', width=2),\n",
    "    name='Monthly PM2.5 Line'\n",
    "))\n",
    "\n",
    "# Add gradient-colored markers\n",
    "fig.add_trace(go.Line(\n",
    "    x=monthly_df['date'],\n",
    "    y=monthly_df['pm25'],\n",
    "    mode='markers',\n",
    "    marker=dict(\n",
    "        size=12,\n",
    "        color=monthly_df['pm25'],\n",
    "        colorscale='RdYlGn_r',\n",
    "        colorbar=dict(title='PM2.5'),\n",
    "        showscale=True\n",
    "    ),\n",
    "    name='PM2.5 Intensity'\n",
    "))\n",
    "\n",
    "# Spike annotations\n",
    "for _, row in spikes.iterrows():\n",
    "    if row['pm25'] > 200:\n",
    "        fig.add_annotation(\n",
    "            x=row['date'],\n",
    "            y=row['pm25'],\n",
    "            text=f\"🚨 {row['pm25']:.1f}\",\n",
    "            showarrow=True,\n",
    "            arrowhead=2,\n",
    "            ax=0,\n",
    "            ay=-30,\n",
    "            bgcolor=\"red\",\n",
    "            font=dict(color=\"white\")\n",
    "        )\n",
    "\n",
    "# Layout tweaks\n",
    "fig.update_layout(\n",
    "    title=\"🌫️ Monthly PM2.5 Levels\",\n",
    "    title_x=0.5,\n",
    "    xaxis_title=\"Date\",\n",
    "    yaxis_title=\"PM2.5 (µg/m³)\",\n",
    "    template=\"plotly_white\",\n",
    "    hovermode='x unified',\n",
    "    font=dict(family=\"Arial\", size=14),\n",
    "    height=600,\n",
    "    margin=dict(l=50, r=50, t=60, b=40),\n",
    ")\n",
    "\n",
    "fig.show()\n"
   ]
  },
  {
   "cell_type": "code",
   "execution_count": 161,
   "id": "ea125cef",
   "metadata": {},
   "outputs": [
    {
     "name": "stderr",
     "output_type": "stream",
     "text": [
      "c:\\Users\\akw97\\miniconda3\\Lib\\site-packages\\plotly\\graph_objs\\_deprecations.py:378: DeprecationWarning:\n",
      "\n",
      "plotly.graph_objs.Line is deprecated.\n",
      "Please replace it with one of the following more specific types\n",
      "  - plotly.graph_objs.scatter.Line\n",
      "  - plotly.graph_objs.layout.shape.Line\n",
      "  - etc.\n",
      "\n",
      "\n"
     ]
    },
    {
     "data": {
      "application/vnd.plotly.v1+json": {
       "config": {
        "plotlyServerURL": "https://plot.ly"
       },
       "data": [
        {
         "line": {
          "color": "lightgray",
          "width": 2
         },
         "mode": "lines",
         "name": "Monthly PM10 Line",
         "type": "scatter",
         "x": [
          "2013-12-31T00:00:00.000000000",
          "2014-01-31T00:00:00.000000000",
          "2014-02-28T00:00:00.000000000",
          "2014-03-31T00:00:00.000000000",
          "2014-04-30T00:00:00.000000000",
          "2014-05-31T00:00:00.000000000",
          "2014-06-30T00:00:00.000000000",
          "2014-07-31T00:00:00.000000000",
          "2014-08-31T00:00:00.000000000",
          "2014-09-30T00:00:00.000000000",
          "2014-10-31T00:00:00.000000000",
          "2014-11-30T00:00:00.000000000",
          "2014-12-31T00:00:00.000000000",
          "2015-01-31T00:00:00.000000000",
          "2015-02-28T00:00:00.000000000",
          "2015-03-31T00:00:00.000000000",
          "2015-04-30T00:00:00.000000000",
          "2015-05-31T00:00:00.000000000",
          "2015-06-30T00:00:00.000000000",
          "2015-07-31T00:00:00.000000000",
          "2015-08-31T00:00:00.000000000",
          "2015-09-30T00:00:00.000000000",
          "2015-10-31T00:00:00.000000000",
          "2015-11-30T00:00:00.000000000",
          "2015-12-31T00:00:00.000000000",
          "2016-01-31T00:00:00.000000000",
          "2016-02-29T00:00:00.000000000",
          "2016-03-31T00:00:00.000000000",
          "2016-04-30T00:00:00.000000000",
          "2016-05-31T00:00:00.000000000",
          "2016-06-30T00:00:00.000000000",
          "2016-07-31T00:00:00.000000000",
          "2016-08-31T00:00:00.000000000",
          "2016-09-30T00:00:00.000000000",
          "2016-10-31T00:00:00.000000000",
          "2016-11-30T00:00:00.000000000",
          "2016-12-31T00:00:00.000000000",
          "2017-01-31T00:00:00.000000000",
          "2017-02-28T00:00:00.000000000",
          "2017-03-31T00:00:00.000000000",
          "2017-04-30T00:00:00.000000000",
          "2017-05-31T00:00:00.000000000",
          "2017-06-30T00:00:00.000000000",
          "2017-07-31T00:00:00.000000000",
          "2017-08-31T00:00:00.000000000",
          "2017-09-30T00:00:00.000000000",
          "2017-10-31T00:00:00.000000000",
          "2017-11-30T00:00:00.000000000",
          "2017-12-31T00:00:00.000000000",
          "2018-01-31T00:00:00.000000000",
          "2018-02-28T00:00:00.000000000",
          "2018-03-31T00:00:00.000000000",
          "2018-04-30T00:00:00.000000000",
          "2018-05-31T00:00:00.000000000",
          "2018-06-30T00:00:00.000000000",
          "2018-07-31T00:00:00.000000000",
          "2018-08-31T00:00:00.000000000",
          "2018-09-30T00:00:00.000000000",
          "2018-10-31T00:00:00.000000000",
          "2018-11-30T00:00:00.000000000",
          "2018-12-31T00:00:00.000000000",
          "2019-01-31T00:00:00.000000000",
          "2019-02-28T00:00:00.000000000",
          "2019-03-31T00:00:00.000000000",
          "2019-04-30T00:00:00.000000000",
          "2019-05-31T00:00:00.000000000",
          "2019-06-30T00:00:00.000000000",
          "2019-07-31T00:00:00.000000000",
          "2019-08-31T00:00:00.000000000",
          "2019-09-30T00:00:00.000000000",
          "2019-10-31T00:00:00.000000000",
          "2019-11-30T00:00:00.000000000",
          "2019-12-31T00:00:00.000000000",
          "2020-01-31T00:00:00.000000000",
          "2020-02-29T00:00:00.000000000",
          "2020-03-31T00:00:00.000000000",
          "2020-04-30T00:00:00.000000000",
          "2020-05-31T00:00:00.000000000",
          "2020-06-30T00:00:00.000000000",
          "2020-07-31T00:00:00.000000000",
          "2020-08-31T00:00:00.000000000",
          "2020-09-30T00:00:00.000000000",
          "2020-10-31T00:00:00.000000000",
          "2020-11-30T00:00:00.000000000",
          "2020-12-31T00:00:00.000000000",
          "2021-01-31T00:00:00.000000000",
          "2021-02-28T00:00:00.000000000",
          "2021-03-31T00:00:00.000000000",
          "2021-04-30T00:00:00.000000000",
          "2021-05-31T00:00:00.000000000",
          "2021-06-30T00:00:00.000000000",
          "2021-07-31T00:00:00.000000000",
          "2021-08-31T00:00:00.000000000",
          "2021-09-30T00:00:00.000000000",
          "2021-10-31T00:00:00.000000000",
          "2021-11-30T00:00:00.000000000",
          "2021-12-31T00:00:00.000000000",
          "2022-01-31T00:00:00.000000000",
          "2022-02-28T00:00:00.000000000",
          "2022-03-31T00:00:00.000000000",
          "2022-04-30T00:00:00.000000000",
          "2022-05-31T00:00:00.000000000",
          "2022-06-30T00:00:00.000000000",
          "2022-07-31T00:00:00.000000000",
          "2022-08-31T00:00:00.000000000",
          "2022-09-30T00:00:00.000000000",
          "2022-10-31T00:00:00.000000000",
          "2022-11-30T00:00:00.000000000",
          "2022-12-31T00:00:00.000000000",
          "2023-01-31T00:00:00.000000000",
          "2023-02-28T00:00:00.000000000",
          "2023-03-31T00:00:00.000000000",
          "2023-04-30T00:00:00.000000000",
          "2023-05-31T00:00:00.000000000",
          "2023-06-30T00:00:00.000000000",
          "2023-07-31T00:00:00.000000000",
          "2023-08-31T00:00:00.000000000",
          "2023-09-30T00:00:00.000000000",
          "2023-10-31T00:00:00.000000000",
          "2023-11-30T00:00:00.000000000",
          "2023-12-31T00:00:00.000000000",
          "2024-01-31T00:00:00.000000000",
          "2024-02-29T00:00:00.000000000",
          "2024-03-31T00:00:00.000000000",
          "2024-04-30T00:00:00.000000000",
          "2024-05-31T00:00:00.000000000",
          "2024-06-30T00:00:00.000000000",
          "2024-07-31T00:00:00.000000000",
          "2024-08-31T00:00:00.000000000",
          "2024-09-30T00:00:00.000000000",
          "2024-10-31T00:00:00.000000000",
          "2024-11-30T00:00:00.000000000",
          "2024-12-31T00:00:00.000000000",
          "2025-01-31T00:00:00.000000000",
          "2025-02-28T00:00:00.000000000",
          "2025-03-31T00:00:00.000000000",
          "2025-04-30T00:00:00.000000000"
         ],
         "y": {
          "bdata": "AAAAAADgaEAh+smU+OVxQAAAAAAAUGtAW2uttdYaX0DMfByyeRRlQAghhBBCaGJAyQUnV8YMZEA+BIPZ90JdQMkLM1zpkltA0l1bCEW7V0AgkVtzGURsQHd3d3d3x3JA0yj6X5hZb0DXWmuttbZmQLOdYetNn2hA5Fwe5Va+XkDv7u7u7u5gQHzvvffee2dAQaTjDp7TXEAmZT9pZ0BTQKcKSnUE2lVAwv2nfR8KX0AfgsHse6FnQLuTYy6Sp3NAIfrJlPhdc0AAAAAAAFBzQHNPIyz3tGlAttZaa61VYEDv7u7u7u5qQIwxxhhjDGZA7Z4+1JvGYEAhhBBCCCFSQEoppZRSSk9AAAAAAADAV0BjjDHGGGNtQAAAAAAAOHdA55xzzjnXcEBmZmZmZkZoQEmSJEmSnGhAjC666KKbY0AiaZZHiY9nQGuttdZaS2dA3t3d3d2dXEAZY4wxxhhPQLbWWmutdVBA9HQgt2W1V0CEEEIIIeRtQN7d3d3drXVAIYQQQggRcEB877333nttQG7btm3bhmZAEUIIIYQwYUDBkn5FN4BlQHTOOeec02FAhzjYbTXQaEAIIYQQQshSQHzvvffee1RARERERERkVUC1NrD2OyFrQKuqqqqqCm5Aal1gHCJhckAu50fOQvZuQPlfDGnAZ2RAcTe2DCt2XkCJiIiIiFhiQOecc845J2JAZmZmZmZmX0A655xzzjlZQCGEEEIIoUxAZmZmZmZGUUAAAAAAAEBkQCIiIiIikmlAiYiIiIhIa0AhhBBCCAFjQNQIyz2NMGNAQaTjDp5TVEC1e/pQbzpTQGOMMcYYY1FAq6qqqqrKUUAppZRSSqlKQNMefPJz1khAIiIiIiJCUkB877333ltkQLy7u7u7u2xAGWOMMcbYaEC21lprrbVoQJIkSZIkwWRAxXi4F8BRZEBmZmZmZqZjQOecc845J1pAIiIiIiKiWUDGGGOMMcZQQCGEEEII4VBA7+7u7u4uTEC21lprrTVZQE11M7Vig2hAgPN5HAoEaEDXWmuttdZiQNu2bdu2LWBA11prrbWWYUAAAAAAAABnQBFCCCGEUGJAq6qqqqqqXUB877333ntNQHzvvffee05AiYiIiIhIUUDGGGOMMcZeQN7d3d3d/WZAOuecc87ZZUDvvffee09nQAAAAAAAkGFAIYQQQghhWUAzMzMzMzNeQDLGGGOMsV1AC9FPpsSvWEANLsb669JNQN9777333lVAvLu7u7v7U0Dvvffeew9iQLy7u7u7a3FAg3CXk6+Pa0ARQgghhFBuQEdY7mmEhWBAMsYYY4xxW0BVVVVVVZVeQEIIIYQQAmRAH4LB7HtRX0Cdc84551xQQO+99957b0lAvLu7u7s7UUB0zjnnnDNkQBHpuIPnPHBAZRa2SxPeaUB0zjnnnLNlQEmSJEmStGBAolT9YEa8XUBwsU0UBrJkQA==",
          "dtype": "f8"
         }
        },
        {
         "marker": {
          "color": {
           "bdata": "AAAAAADgaEAh+smU+OVxQAAAAAAAUGtAW2uttdYaX0DMfByyeRRlQAghhBBCaGJAyQUnV8YMZEA+BIPZ90JdQMkLM1zpkltA0l1bCEW7V0AgkVtzGURsQHd3d3d3x3JA0yj6X5hZb0DXWmuttbZmQLOdYetNn2hA5Fwe5Va+XkDv7u7u7u5gQHzvvffee2dAQaTjDp7TXEAmZT9pZ0BTQKcKSnUE2lVAwv2nfR8KX0AfgsHse6FnQLuTYy6Sp3NAIfrJlPhdc0AAAAAAAFBzQHNPIyz3tGlAttZaa61VYEDv7u7u7u5qQIwxxhhjDGZA7Z4+1JvGYEAhhBBCCCFSQEoppZRSSk9AAAAAAADAV0BjjDHGGGNtQAAAAAAAOHdA55xzzjnXcEBmZmZmZkZoQEmSJEmSnGhAjC666KKbY0AiaZZHiY9nQGuttdZaS2dA3t3d3d2dXEAZY4wxxhhPQLbWWmutdVBA9HQgt2W1V0CEEEIIIeRtQN7d3d3drXVAIYQQQggRcEB877333nttQG7btm3bhmZAEUIIIYQwYUDBkn5FN4BlQHTOOeec02FAhzjYbTXQaEAIIYQQQshSQHzvvffee1RARERERERkVUC1NrD2OyFrQKuqqqqqCm5Aal1gHCJhckAu50fOQvZuQPlfDGnAZ2RAcTe2DCt2XkCJiIiIiFhiQOecc845J2JAZmZmZmZmX0A655xzzjlZQCGEEEIIoUxAZmZmZmZGUUAAAAAAAEBkQCIiIiIikmlAiYiIiIhIa0AhhBBCCAFjQNQIyz2NMGNAQaTjDp5TVEC1e/pQbzpTQGOMMcYYY1FAq6qqqqrKUUAppZRSSqlKQNMefPJz1khAIiIiIiJCUkB877333ltkQLy7u7u7u2xAGWOMMcbYaEC21lprrbVoQJIkSZIkwWRAxXi4F8BRZEBmZmZmZqZjQOecc845J1pAIiIiIiKiWUDGGGOMMcZQQCGEEEII4VBA7+7u7u4uTEC21lprrTVZQE11M7Vig2hAgPN5HAoEaEDXWmuttdZiQNu2bdu2LWBA11prrbWWYUAAAAAAAABnQBFCCCGEUGJAq6qqqqqqXUB877333ntNQHzvvffee05AiYiIiIhIUUDGGGOMMcZeQN7d3d3d/WZAOuecc87ZZUDvvffee09nQAAAAAAAkGFAIYQQQghhWUAzMzMzMzNeQDLGGGOMsV1AC9FPpsSvWEANLsb669JNQN9777333lVAvLu7u7v7U0Dvvffeew9iQLy7u7u7a3FAg3CXk6+Pa0ARQgghhFBuQEdY7mmEhWBAMsYYY4xxW0BVVVVVVZVeQEIIIYQQAmRAH4LB7HtRX0Cdc84551xQQO+99957b0lAvLu7u7s7UUB0zjnnnDNkQBHpuIPnPHBAZRa2SxPeaUB0zjnnnLNlQEmSJEmStGBAolT9YEa8XUBwsU0UBrJkQA==",
           "dtype": "f8"
          },
          "colorbar": {
           "title": {
            "text": "PM10"
           }
          },
          "colorscale": [
           [
            0,
            "rgb(0,104,55)"
           ],
           [
            0.1,
            "rgb(26,152,80)"
           ],
           [
            0.2,
            "rgb(102,189,99)"
           ],
           [
            0.3,
            "rgb(166,217,106)"
           ],
           [
            0.4,
            "rgb(217,239,139)"
           ],
           [
            0.5,
            "rgb(255,255,191)"
           ],
           [
            0.6,
            "rgb(254,224,139)"
           ],
           [
            0.7,
            "rgb(253,174,97)"
           ],
           [
            0.8,
            "rgb(244,109,67)"
           ],
           [
            0.9,
            "rgb(215,48,39)"
           ],
           [
            1,
            "rgb(165,0,38)"
           ]
          ],
          "showscale": true,
          "size": 12
         },
         "mode": "markers",
         "name": "PM10 Intensity",
         "type": "scatter",
         "x": [
          "2013-12-31T00:00:00.000000000",
          "2014-01-31T00:00:00.000000000",
          "2014-02-28T00:00:00.000000000",
          "2014-03-31T00:00:00.000000000",
          "2014-04-30T00:00:00.000000000",
          "2014-05-31T00:00:00.000000000",
          "2014-06-30T00:00:00.000000000",
          "2014-07-31T00:00:00.000000000",
          "2014-08-31T00:00:00.000000000",
          "2014-09-30T00:00:00.000000000",
          "2014-10-31T00:00:00.000000000",
          "2014-11-30T00:00:00.000000000",
          "2014-12-31T00:00:00.000000000",
          "2015-01-31T00:00:00.000000000",
          "2015-02-28T00:00:00.000000000",
          "2015-03-31T00:00:00.000000000",
          "2015-04-30T00:00:00.000000000",
          "2015-05-31T00:00:00.000000000",
          "2015-06-30T00:00:00.000000000",
          "2015-07-31T00:00:00.000000000",
          "2015-08-31T00:00:00.000000000",
          "2015-09-30T00:00:00.000000000",
          "2015-10-31T00:00:00.000000000",
          "2015-11-30T00:00:00.000000000",
          "2015-12-31T00:00:00.000000000",
          "2016-01-31T00:00:00.000000000",
          "2016-02-29T00:00:00.000000000",
          "2016-03-31T00:00:00.000000000",
          "2016-04-30T00:00:00.000000000",
          "2016-05-31T00:00:00.000000000",
          "2016-06-30T00:00:00.000000000",
          "2016-07-31T00:00:00.000000000",
          "2016-08-31T00:00:00.000000000",
          "2016-09-30T00:00:00.000000000",
          "2016-10-31T00:00:00.000000000",
          "2016-11-30T00:00:00.000000000",
          "2016-12-31T00:00:00.000000000",
          "2017-01-31T00:00:00.000000000",
          "2017-02-28T00:00:00.000000000",
          "2017-03-31T00:00:00.000000000",
          "2017-04-30T00:00:00.000000000",
          "2017-05-31T00:00:00.000000000",
          "2017-06-30T00:00:00.000000000",
          "2017-07-31T00:00:00.000000000",
          "2017-08-31T00:00:00.000000000",
          "2017-09-30T00:00:00.000000000",
          "2017-10-31T00:00:00.000000000",
          "2017-11-30T00:00:00.000000000",
          "2017-12-31T00:00:00.000000000",
          "2018-01-31T00:00:00.000000000",
          "2018-02-28T00:00:00.000000000",
          "2018-03-31T00:00:00.000000000",
          "2018-04-30T00:00:00.000000000",
          "2018-05-31T00:00:00.000000000",
          "2018-06-30T00:00:00.000000000",
          "2018-07-31T00:00:00.000000000",
          "2018-08-31T00:00:00.000000000",
          "2018-09-30T00:00:00.000000000",
          "2018-10-31T00:00:00.000000000",
          "2018-11-30T00:00:00.000000000",
          "2018-12-31T00:00:00.000000000",
          "2019-01-31T00:00:00.000000000",
          "2019-02-28T00:00:00.000000000",
          "2019-03-31T00:00:00.000000000",
          "2019-04-30T00:00:00.000000000",
          "2019-05-31T00:00:00.000000000",
          "2019-06-30T00:00:00.000000000",
          "2019-07-31T00:00:00.000000000",
          "2019-08-31T00:00:00.000000000",
          "2019-09-30T00:00:00.000000000",
          "2019-10-31T00:00:00.000000000",
          "2019-11-30T00:00:00.000000000",
          "2019-12-31T00:00:00.000000000",
          "2020-01-31T00:00:00.000000000",
          "2020-02-29T00:00:00.000000000",
          "2020-03-31T00:00:00.000000000",
          "2020-04-30T00:00:00.000000000",
          "2020-05-31T00:00:00.000000000",
          "2020-06-30T00:00:00.000000000",
          "2020-07-31T00:00:00.000000000",
          "2020-08-31T00:00:00.000000000",
          "2020-09-30T00:00:00.000000000",
          "2020-10-31T00:00:00.000000000",
          "2020-11-30T00:00:00.000000000",
          "2020-12-31T00:00:00.000000000",
          "2021-01-31T00:00:00.000000000",
          "2021-02-28T00:00:00.000000000",
          "2021-03-31T00:00:00.000000000",
          "2021-04-30T00:00:00.000000000",
          "2021-05-31T00:00:00.000000000",
          "2021-06-30T00:00:00.000000000",
          "2021-07-31T00:00:00.000000000",
          "2021-08-31T00:00:00.000000000",
          "2021-09-30T00:00:00.000000000",
          "2021-10-31T00:00:00.000000000",
          "2021-11-30T00:00:00.000000000",
          "2021-12-31T00:00:00.000000000",
          "2022-01-31T00:00:00.000000000",
          "2022-02-28T00:00:00.000000000",
          "2022-03-31T00:00:00.000000000",
          "2022-04-30T00:00:00.000000000",
          "2022-05-31T00:00:00.000000000",
          "2022-06-30T00:00:00.000000000",
          "2022-07-31T00:00:00.000000000",
          "2022-08-31T00:00:00.000000000",
          "2022-09-30T00:00:00.000000000",
          "2022-10-31T00:00:00.000000000",
          "2022-11-30T00:00:00.000000000",
          "2022-12-31T00:00:00.000000000",
          "2023-01-31T00:00:00.000000000",
          "2023-02-28T00:00:00.000000000",
          "2023-03-31T00:00:00.000000000",
          "2023-04-30T00:00:00.000000000",
          "2023-05-31T00:00:00.000000000",
          "2023-06-30T00:00:00.000000000",
          "2023-07-31T00:00:00.000000000",
          "2023-08-31T00:00:00.000000000",
          "2023-09-30T00:00:00.000000000",
          "2023-10-31T00:00:00.000000000",
          "2023-11-30T00:00:00.000000000",
          "2023-12-31T00:00:00.000000000",
          "2024-01-31T00:00:00.000000000",
          "2024-02-29T00:00:00.000000000",
          "2024-03-31T00:00:00.000000000",
          "2024-04-30T00:00:00.000000000",
          "2024-05-31T00:00:00.000000000",
          "2024-06-30T00:00:00.000000000",
          "2024-07-31T00:00:00.000000000",
          "2024-08-31T00:00:00.000000000",
          "2024-09-30T00:00:00.000000000",
          "2024-10-31T00:00:00.000000000",
          "2024-11-30T00:00:00.000000000",
          "2024-12-31T00:00:00.000000000",
          "2025-01-31T00:00:00.000000000",
          "2025-02-28T00:00:00.000000000",
          "2025-03-31T00:00:00.000000000",
          "2025-04-30T00:00:00.000000000"
         ],
         "y": {
          "bdata": "AAAAAADgaEAh+smU+OVxQAAAAAAAUGtAW2uttdYaX0DMfByyeRRlQAghhBBCaGJAyQUnV8YMZEA+BIPZ90JdQMkLM1zpkltA0l1bCEW7V0AgkVtzGURsQHd3d3d3x3JA0yj6X5hZb0DXWmuttbZmQLOdYetNn2hA5Fwe5Va+XkDv7u7u7u5gQHzvvffee2dAQaTjDp7TXEAmZT9pZ0BTQKcKSnUE2lVAwv2nfR8KX0AfgsHse6FnQLuTYy6Sp3NAIfrJlPhdc0AAAAAAAFBzQHNPIyz3tGlAttZaa61VYEDv7u7u7u5qQIwxxhhjDGZA7Z4+1JvGYEAhhBBCCCFSQEoppZRSSk9AAAAAAADAV0BjjDHGGGNtQAAAAAAAOHdA55xzzjnXcEBmZmZmZkZoQEmSJEmSnGhAjC666KKbY0AiaZZHiY9nQGuttdZaS2dA3t3d3d2dXEAZY4wxxhhPQLbWWmutdVBA9HQgt2W1V0CEEEIIIeRtQN7d3d3drXVAIYQQQggRcEB877333nttQG7btm3bhmZAEUIIIYQwYUDBkn5FN4BlQHTOOeec02FAhzjYbTXQaEAIIYQQQshSQHzvvffee1RARERERERkVUC1NrD2OyFrQKuqqqqqCm5Aal1gHCJhckAu50fOQvZuQPlfDGnAZ2RAcTe2DCt2XkCJiIiIiFhiQOecc845J2JAZmZmZmZmX0A655xzzjlZQCGEEEIIoUxAZmZmZmZGUUAAAAAAAEBkQCIiIiIikmlAiYiIiIhIa0AhhBBCCAFjQNQIyz2NMGNAQaTjDp5TVEC1e/pQbzpTQGOMMcYYY1FAq6qqqqrKUUAppZRSSqlKQNMefPJz1khAIiIiIiJCUkB877333ltkQLy7u7u7u2xAGWOMMcbYaEC21lprrbVoQJIkSZIkwWRAxXi4F8BRZEBmZmZmZqZjQOecc845J1pAIiIiIiKiWUDGGGOMMcZQQCGEEEII4VBA7+7u7u4uTEC21lprrTVZQE11M7Vig2hAgPN5HAoEaEDXWmuttdZiQNu2bdu2LWBA11prrbWWYUAAAAAAAABnQBFCCCGEUGJAq6qqqqqqXUB877333ntNQHzvvffee05AiYiIiIhIUUDGGGOMMcZeQN7d3d3d/WZAOuecc87ZZUDvvffee09nQAAAAAAAkGFAIYQQQghhWUAzMzMzMzNeQDLGGGOMsV1AC9FPpsSvWEANLsb669JNQN9777333lVAvLu7u7v7U0Dvvffeew9iQLy7u7u7a3FAg3CXk6+Pa0ARQgghhFBuQEdY7mmEhWBAMsYYY4xxW0BVVVVVVZVeQEIIIYQQAmRAH4LB7HtRX0Cdc84551xQQO+99957b0lAvLu7u7s7UUB0zjnnnDNkQBHpuIPnPHBAZRa2SxPeaUB0zjnnnLNlQEmSJEmStGBAolT9YEa8XUBwsU0UBrJkQA==",
          "dtype": "f8"
         }
        }
       ],
       "layout": {
        "annotations": [
         {
          "arrowhead": 2,
          "ax": 0,
          "ay": -30,
          "bgcolor": "red",
          "font": {
           "color": "white"
          },
          "showarrow": true,
          "text": "🚨 286.4",
          "x": "2014-01-31T00:00:00",
          "y": 286.37318877122203
         },
         {
          "arrowhead": 2,
          "ax": 0,
          "ay": -30,
          "bgcolor": "red",
          "font": {
           "color": "white"
          },
          "showarrow": true,
          "text": "🚨 218.5",
          "x": "2014-02-28T00:00:00",
          "y": 218.5
         },
         {
          "arrowhead": 2,
          "ax": 0,
          "ay": -30,
          "bgcolor": "red",
          "font": {
           "color": "white"
          },
          "showarrow": true,
          "text": "🚨 226.1",
          "x": "2014-10-31T00:00:00",
          "y": 226.12810676464233
         },
         {
          "arrowhead": 2,
          "ax": 0,
          "ay": -30,
          "bgcolor": "red",
          "font": {
           "color": "white"
          },
          "showarrow": true,
          "text": "🚨 300.5",
          "x": "2014-11-30T00:00:00",
          "y": 300.46666666666664
         },
         {
          "arrowhead": 2,
          "ax": 0,
          "ay": -30,
          "bgcolor": "red",
          "font": {
           "color": "white"
          },
          "showarrow": true,
          "text": "🚨 250.8",
          "x": "2014-12-31T00:00:00",
          "y": 250.79985045298835
         },
         {
          "arrowhead": 2,
          "ax": 0,
          "ay": -30,
          "bgcolor": "red",
          "font": {
           "color": "white"
          },
          "showarrow": true,
          "text": "🚨 314.5",
          "x": "2015-11-30T00:00:00",
          "y": 314.47318877122206
         },
         {
          "arrowhead": 2,
          "ax": 0,
          "ay": -30,
          "bgcolor": "red",
          "font": {
           "color": "white"
          },
          "showarrow": true,
          "text": "🚨 309.9",
          "x": "2015-12-31T00:00:00",
          "y": 309.87318877122203
         },
         {
          "arrowhead": 2,
          "ax": 0,
          "ay": -30,
          "bgcolor": "red",
          "font": {
           "color": "white"
          },
          "showarrow": true,
          "text": "🚨 309.0",
          "x": "2016-01-31T00:00:00",
          "y": 309
         },
         {
          "arrowhead": 2,
          "ax": 0,
          "ay": -30,
          "bgcolor": "red",
          "font": {
           "color": "white"
          },
          "showarrow": true,
          "text": "🚨 205.7",
          "x": "2016-02-29T00:00:00",
          "y": 205.6551724137931
         },
         {
          "arrowhead": 2,
          "ax": 0,
          "ay": -30,
          "bgcolor": "red",
          "font": {
           "color": "white"
          },
          "showarrow": true,
          "text": "🚨 215.5",
          "x": "2016-04-30T00:00:00",
          "y": 215.46666666666667
         },
         {
          "arrowhead": 2,
          "ax": 0,
          "ay": -30,
          "bgcolor": "red",
          "font": {
           "color": "white"
          },
          "showarrow": true,
          "text": "🚨 235.1",
          "x": "2016-10-31T00:00:00",
          "y": 235.09677419354838
         },
         {
          "arrowhead": 2,
          "ax": 0,
          "ay": -30,
          "bgcolor": "red",
          "font": {
           "color": "white"
          },
          "showarrow": true,
          "text": "🚨 371.5",
          "x": "2016-11-30T00:00:00",
          "y": 371.5
         },
         {
          "arrowhead": 2,
          "ax": 0,
          "ay": -30,
          "bgcolor": "red",
          "font": {
           "color": "white"
          },
          "showarrow": true,
          "text": "🚨 269.5",
          "x": "2016-12-31T00:00:00",
          "y": 269.4516129032258
         },
         {
          "arrowhead": 2,
          "ax": 0,
          "ay": -30,
          "bgcolor": "red",
          "font": {
           "color": "white"
          },
          "showarrow": true,
          "text": "🚨 239.1",
          "x": "2017-10-31T00:00:00",
          "y": 239.1290322580645
         },
         {
          "arrowhead": 2,
          "ax": 0,
          "ay": -30,
          "bgcolor": "red",
          "font": {
           "color": "white"
          },
          "showarrow": true,
          "text": "🚨 346.9",
          "x": "2017-11-30T00:00:00",
          "y": 346.8666666666667
         },
         {
          "arrowhead": 2,
          "ax": 0,
          "ay": -30,
          "bgcolor": "red",
          "font": {
           "color": "white"
          },
          "showarrow": true,
          "text": "🚨 257.1",
          "x": "2017-12-31T00:00:00",
          "y": 257.06451612903226
         },
         {
          "arrowhead": 2,
          "ax": 0,
          "ay": -30,
          "bgcolor": "red",
          "font": {
           "color": "white"
          },
          "showarrow": true,
          "text": "🚨 235.9",
          "x": "2018-01-31T00:00:00",
          "y": 235.8709677419355
         },
         {
          "arrowhead": 2,
          "ax": 0,
          "ay": -30,
          "bgcolor": "red",
          "font": {
           "color": "white"
          },
          "showarrow": true,
          "text": "🚨 217.0",
          "x": "2018-10-31T00:00:00",
          "y": 217.038569778602
         },
         {
          "arrowhead": 2,
          "ax": 0,
          "ay": -30,
          "bgcolor": "red",
          "font": {
           "color": "white"
          },
          "showarrow": true,
          "text": "🚨 240.3",
          "x": "2018-11-30T00:00:00",
          "y": 240.33333333333334
         },
         {
          "arrowhead": 2,
          "ax": 0,
          "ay": -30,
          "bgcolor": "red",
          "font": {
           "color": "white"
          },
          "showarrow": true,
          "text": "🚨 294.1",
          "x": "2018-12-31T00:00:00",
          "y": 294.0708278431181
         },
         {
          "arrowhead": 2,
          "ax": 0,
          "ay": -30,
          "bgcolor": "red",
          "font": {
           "color": "white"
          },
          "showarrow": true,
          "text": "🚨 247.7",
          "x": "2019-01-31T00:00:00",
          "y": 247.69565500300945
         },
         {
          "arrowhead": 2,
          "ax": 0,
          "ay": -30,
          "bgcolor": "red",
          "font": {
           "color": "white"
          },
          "showarrow": true,
          "text": "🚨 204.6",
          "x": "2019-11-30T00:00:00",
          "y": 204.56666666666666
         },
         {
          "arrowhead": 2,
          "ax": 0,
          "ay": -30,
          "bgcolor": "red",
          "font": {
           "color": "white"
          },
          "showarrow": true,
          "text": "🚨 218.3",
          "x": "2019-12-31T00:00:00",
          "y": 218.26666666666668
         },
         {
          "arrowhead": 2,
          "ax": 0,
          "ay": -30,
          "bgcolor": "red",
          "font": {
           "color": "white"
          },
          "showarrow": true,
          "text": "🚨 229.9",
          "x": "2020-11-30T00:00:00",
          "y": 229.86666666666667
         },
         {
          "arrowhead": 2,
          "ax": 0,
          "ay": -30,
          "bgcolor": "red",
          "font": {
           "color": "white"
          },
          "showarrow": true,
          "text": "🚨 278.7",
          "x": "2023-11-30T00:00:00",
          "y": 278.73333333333335
         },
         {
          "arrowhead": 2,
          "ax": 0,
          "ay": -30,
          "bgcolor": "red",
          "font": {
           "color": "white"
          },
          "showarrow": true,
          "text": "🚨 220.5",
          "x": "2023-12-31T00:00:00",
          "y": 220.4901826818278
         },
         {
          "arrowhead": 2,
          "ax": 0,
          "ay": -30,
          "bgcolor": "red",
          "font": {
           "color": "white"
          },
          "showarrow": true,
          "text": "🚨 242.5",
          "x": "2024-01-31T00:00:00",
          "y": 242.51612903225808
         },
         {
          "arrowhead": 2,
          "ax": 0,
          "ay": -30,
          "bgcolor": "red",
          "font": {
           "color": "white"
          },
          "showarrow": true,
          "text": "🚨 259.8",
          "x": "2024-11-30T00:00:00",
          "y": 259.8065221045554
         },
         {
          "arrowhead": 2,
          "ax": 0,
          "ay": -30,
          "bgcolor": "red",
          "font": {
           "color": "white"
          },
          "showarrow": true,
          "text": "🚨 206.9",
          "x": "2024-12-31T00:00:00",
          "y": 206.93985543788872
         }
        ],
        "font": {
         "family": "Arial",
         "size": 14
        },
        "height": 600,
        "hovermode": "x unified",
        "margin": {
         "b": 40,
         "l": 50,
         "r": 50,
         "t": 60
        },
        "template": {
         "data": {
          "bar": [
           {
            "error_x": {
             "color": "#2a3f5f"
            },
            "error_y": {
             "color": "#2a3f5f"
            },
            "marker": {
             "line": {
              "color": "white",
              "width": 0.5
             },
             "pattern": {
              "fillmode": "overlay",
              "size": 10,
              "solidity": 0.2
             }
            },
            "type": "bar"
           }
          ],
          "barpolar": [
           {
            "marker": {
             "line": {
              "color": "white",
              "width": 0.5
             },
             "pattern": {
              "fillmode": "overlay",
              "size": 10,
              "solidity": 0.2
             }
            },
            "type": "barpolar"
           }
          ],
          "carpet": [
           {
            "aaxis": {
             "endlinecolor": "#2a3f5f",
             "gridcolor": "#C8D4E3",
             "linecolor": "#C8D4E3",
             "minorgridcolor": "#C8D4E3",
             "startlinecolor": "#2a3f5f"
            },
            "baxis": {
             "endlinecolor": "#2a3f5f",
             "gridcolor": "#C8D4E3",
             "linecolor": "#C8D4E3",
             "minorgridcolor": "#C8D4E3",
             "startlinecolor": "#2a3f5f"
            },
            "type": "carpet"
           }
          ],
          "choropleth": [
           {
            "colorbar": {
             "outlinewidth": 0,
             "ticks": ""
            },
            "type": "choropleth"
           }
          ],
          "contour": [
           {
            "colorbar": {
             "outlinewidth": 0,
             "ticks": ""
            },
            "colorscale": [
             [
              0,
              "#0d0887"
             ],
             [
              0.1111111111111111,
              "#46039f"
             ],
             [
              0.2222222222222222,
              "#7201a8"
             ],
             [
              0.3333333333333333,
              "#9c179e"
             ],
             [
              0.4444444444444444,
              "#bd3786"
             ],
             [
              0.5555555555555556,
              "#d8576b"
             ],
             [
              0.6666666666666666,
              "#ed7953"
             ],
             [
              0.7777777777777778,
              "#fb9f3a"
             ],
             [
              0.8888888888888888,
              "#fdca26"
             ],
             [
              1,
              "#f0f921"
             ]
            ],
            "type": "contour"
           }
          ],
          "contourcarpet": [
           {
            "colorbar": {
             "outlinewidth": 0,
             "ticks": ""
            },
            "type": "contourcarpet"
           }
          ],
          "heatmap": [
           {
            "colorbar": {
             "outlinewidth": 0,
             "ticks": ""
            },
            "colorscale": [
             [
              0,
              "#0d0887"
             ],
             [
              0.1111111111111111,
              "#46039f"
             ],
             [
              0.2222222222222222,
              "#7201a8"
             ],
             [
              0.3333333333333333,
              "#9c179e"
             ],
             [
              0.4444444444444444,
              "#bd3786"
             ],
             [
              0.5555555555555556,
              "#d8576b"
             ],
             [
              0.6666666666666666,
              "#ed7953"
             ],
             [
              0.7777777777777778,
              "#fb9f3a"
             ],
             [
              0.8888888888888888,
              "#fdca26"
             ],
             [
              1,
              "#f0f921"
             ]
            ],
            "type": "heatmap"
           }
          ],
          "histogram": [
           {
            "marker": {
             "pattern": {
              "fillmode": "overlay",
              "size": 10,
              "solidity": 0.2
             }
            },
            "type": "histogram"
           }
          ],
          "histogram2d": [
           {
            "colorbar": {
             "outlinewidth": 0,
             "ticks": ""
            },
            "colorscale": [
             [
              0,
              "#0d0887"
             ],
             [
              0.1111111111111111,
              "#46039f"
             ],
             [
              0.2222222222222222,
              "#7201a8"
             ],
             [
              0.3333333333333333,
              "#9c179e"
             ],
             [
              0.4444444444444444,
              "#bd3786"
             ],
             [
              0.5555555555555556,
              "#d8576b"
             ],
             [
              0.6666666666666666,
              "#ed7953"
             ],
             [
              0.7777777777777778,
              "#fb9f3a"
             ],
             [
              0.8888888888888888,
              "#fdca26"
             ],
             [
              1,
              "#f0f921"
             ]
            ],
            "type": "histogram2d"
           }
          ],
          "histogram2dcontour": [
           {
            "colorbar": {
             "outlinewidth": 0,
             "ticks": ""
            },
            "colorscale": [
             [
              0,
              "#0d0887"
             ],
             [
              0.1111111111111111,
              "#46039f"
             ],
             [
              0.2222222222222222,
              "#7201a8"
             ],
             [
              0.3333333333333333,
              "#9c179e"
             ],
             [
              0.4444444444444444,
              "#bd3786"
             ],
             [
              0.5555555555555556,
              "#d8576b"
             ],
             [
              0.6666666666666666,
              "#ed7953"
             ],
             [
              0.7777777777777778,
              "#fb9f3a"
             ],
             [
              0.8888888888888888,
              "#fdca26"
             ],
             [
              1,
              "#f0f921"
             ]
            ],
            "type": "histogram2dcontour"
           }
          ],
          "mesh3d": [
           {
            "colorbar": {
             "outlinewidth": 0,
             "ticks": ""
            },
            "type": "mesh3d"
           }
          ],
          "parcoords": [
           {
            "line": {
             "colorbar": {
              "outlinewidth": 0,
              "ticks": ""
             }
            },
            "type": "parcoords"
           }
          ],
          "pie": [
           {
            "automargin": true,
            "type": "pie"
           }
          ],
          "scatter": [
           {
            "fillpattern": {
             "fillmode": "overlay",
             "size": 10,
             "solidity": 0.2
            },
            "type": "scatter"
           }
          ],
          "scatter3d": [
           {
            "line": {
             "colorbar": {
              "outlinewidth": 0,
              "ticks": ""
             }
            },
            "marker": {
             "colorbar": {
              "outlinewidth": 0,
              "ticks": ""
             }
            },
            "type": "scatter3d"
           }
          ],
          "scattercarpet": [
           {
            "marker": {
             "colorbar": {
              "outlinewidth": 0,
              "ticks": ""
             }
            },
            "type": "scattercarpet"
           }
          ],
          "scattergeo": [
           {
            "marker": {
             "colorbar": {
              "outlinewidth": 0,
              "ticks": ""
             }
            },
            "type": "scattergeo"
           }
          ],
          "scattergl": [
           {
            "marker": {
             "colorbar": {
              "outlinewidth": 0,
              "ticks": ""
             }
            },
            "type": "scattergl"
           }
          ],
          "scattermap": [
           {
            "marker": {
             "colorbar": {
              "outlinewidth": 0,
              "ticks": ""
             }
            },
            "type": "scattermap"
           }
          ],
          "scattermapbox": [
           {
            "marker": {
             "colorbar": {
              "outlinewidth": 0,
              "ticks": ""
             }
            },
            "type": "scattermapbox"
           }
          ],
          "scatterpolar": [
           {
            "marker": {
             "colorbar": {
              "outlinewidth": 0,
              "ticks": ""
             }
            },
            "type": "scatterpolar"
           }
          ],
          "scatterpolargl": [
           {
            "marker": {
             "colorbar": {
              "outlinewidth": 0,
              "ticks": ""
             }
            },
            "type": "scatterpolargl"
           }
          ],
          "scatterternary": [
           {
            "marker": {
             "colorbar": {
              "outlinewidth": 0,
              "ticks": ""
             }
            },
            "type": "scatterternary"
           }
          ],
          "surface": [
           {
            "colorbar": {
             "outlinewidth": 0,
             "ticks": ""
            },
            "colorscale": [
             [
              0,
              "#0d0887"
             ],
             [
              0.1111111111111111,
              "#46039f"
             ],
             [
              0.2222222222222222,
              "#7201a8"
             ],
             [
              0.3333333333333333,
              "#9c179e"
             ],
             [
              0.4444444444444444,
              "#bd3786"
             ],
             [
              0.5555555555555556,
              "#d8576b"
             ],
             [
              0.6666666666666666,
              "#ed7953"
             ],
             [
              0.7777777777777778,
              "#fb9f3a"
             ],
             [
              0.8888888888888888,
              "#fdca26"
             ],
             [
              1,
              "#f0f921"
             ]
            ],
            "type": "surface"
           }
          ],
          "table": [
           {
            "cells": {
             "fill": {
              "color": "#EBF0F8"
             },
             "line": {
              "color": "white"
             }
            },
            "header": {
             "fill": {
              "color": "#C8D4E3"
             },
             "line": {
              "color": "white"
             }
            },
            "type": "table"
           }
          ]
         },
         "layout": {
          "annotationdefaults": {
           "arrowcolor": "#2a3f5f",
           "arrowhead": 0,
           "arrowwidth": 1
          },
          "autotypenumbers": "strict",
          "coloraxis": {
           "colorbar": {
            "outlinewidth": 0,
            "ticks": ""
           }
          },
          "colorscale": {
           "diverging": [
            [
             0,
             "#8e0152"
            ],
            [
             0.1,
             "#c51b7d"
            ],
            [
             0.2,
             "#de77ae"
            ],
            [
             0.3,
             "#f1b6da"
            ],
            [
             0.4,
             "#fde0ef"
            ],
            [
             0.5,
             "#f7f7f7"
            ],
            [
             0.6,
             "#e6f5d0"
            ],
            [
             0.7,
             "#b8e186"
            ],
            [
             0.8,
             "#7fbc41"
            ],
            [
             0.9,
             "#4d9221"
            ],
            [
             1,
             "#276419"
            ]
           ],
           "sequential": [
            [
             0,
             "#0d0887"
            ],
            [
             0.1111111111111111,
             "#46039f"
            ],
            [
             0.2222222222222222,
             "#7201a8"
            ],
            [
             0.3333333333333333,
             "#9c179e"
            ],
            [
             0.4444444444444444,
             "#bd3786"
            ],
            [
             0.5555555555555556,
             "#d8576b"
            ],
            [
             0.6666666666666666,
             "#ed7953"
            ],
            [
             0.7777777777777778,
             "#fb9f3a"
            ],
            [
             0.8888888888888888,
             "#fdca26"
            ],
            [
             1,
             "#f0f921"
            ]
           ],
           "sequentialminus": [
            [
             0,
             "#0d0887"
            ],
            [
             0.1111111111111111,
             "#46039f"
            ],
            [
             0.2222222222222222,
             "#7201a8"
            ],
            [
             0.3333333333333333,
             "#9c179e"
            ],
            [
             0.4444444444444444,
             "#bd3786"
            ],
            [
             0.5555555555555556,
             "#d8576b"
            ],
            [
             0.6666666666666666,
             "#ed7953"
            ],
            [
             0.7777777777777778,
             "#fb9f3a"
            ],
            [
             0.8888888888888888,
             "#fdca26"
            ],
            [
             1,
             "#f0f921"
            ]
           ]
          },
          "colorway": [
           "#636efa",
           "#EF553B",
           "#00cc96",
           "#ab63fa",
           "#FFA15A",
           "#19d3f3",
           "#FF6692",
           "#B6E880",
           "#FF97FF",
           "#FECB52"
          ],
          "font": {
           "color": "#2a3f5f"
          },
          "geo": {
           "bgcolor": "white",
           "lakecolor": "white",
           "landcolor": "white",
           "showlakes": true,
           "showland": true,
           "subunitcolor": "#C8D4E3"
          },
          "hoverlabel": {
           "align": "left"
          },
          "hovermode": "closest",
          "mapbox": {
           "style": "light"
          },
          "paper_bgcolor": "white",
          "plot_bgcolor": "white",
          "polar": {
           "angularaxis": {
            "gridcolor": "#EBF0F8",
            "linecolor": "#EBF0F8",
            "ticks": ""
           },
           "bgcolor": "white",
           "radialaxis": {
            "gridcolor": "#EBF0F8",
            "linecolor": "#EBF0F8",
            "ticks": ""
           }
          },
          "scene": {
           "xaxis": {
            "backgroundcolor": "white",
            "gridcolor": "#DFE8F3",
            "gridwidth": 2,
            "linecolor": "#EBF0F8",
            "showbackground": true,
            "ticks": "",
            "zerolinecolor": "#EBF0F8"
           },
           "yaxis": {
            "backgroundcolor": "white",
            "gridcolor": "#DFE8F3",
            "gridwidth": 2,
            "linecolor": "#EBF0F8",
            "showbackground": true,
            "ticks": "",
            "zerolinecolor": "#EBF0F8"
           },
           "zaxis": {
            "backgroundcolor": "white",
            "gridcolor": "#DFE8F3",
            "gridwidth": 2,
            "linecolor": "#EBF0F8",
            "showbackground": true,
            "ticks": "",
            "zerolinecolor": "#EBF0F8"
           }
          },
          "shapedefaults": {
           "line": {
            "color": "#2a3f5f"
           }
          },
          "ternary": {
           "aaxis": {
            "gridcolor": "#DFE8F3",
            "linecolor": "#A2B1C6",
            "ticks": ""
           },
           "baxis": {
            "gridcolor": "#DFE8F3",
            "linecolor": "#A2B1C6",
            "ticks": ""
           },
           "bgcolor": "white",
           "caxis": {
            "gridcolor": "#DFE8F3",
            "linecolor": "#A2B1C6",
            "ticks": ""
           }
          },
          "title": {
           "x": 0.05
          },
          "xaxis": {
           "automargin": true,
           "gridcolor": "#EBF0F8",
           "linecolor": "#EBF0F8",
           "ticks": "",
           "title": {
            "standoff": 15
           },
           "zerolinecolor": "#EBF0F8",
           "zerolinewidth": 2
          },
          "yaxis": {
           "automargin": true,
           "gridcolor": "#EBF0F8",
           "linecolor": "#EBF0F8",
           "ticks": "",
           "title": {
            "standoff": 15
           },
           "zerolinecolor": "#EBF0F8",
           "zerolinewidth": 2
          }
         }
        },
        "title": {
         "text": "🌫️ Monthly PM10 Levels",
         "x": 0.5
        },
        "xaxis": {
         "title": {
          "text": "Date"
         }
        },
        "yaxis": {
         "title": {
          "text": "PM10 (µg/m³)"
         }
        }
       }
      }
     },
     "metadata": {},
     "output_type": "display_data"
    }
   ],
   "source": [
    "# Spike detection threshold\n",
    "spike_threshold = 100\n",
    "spikes = monthly_df[monthly_df['pm10'] > spike_threshold]\n",
    "\n",
    "# Create figure\n",
    "fig = go.Figure()\n",
    "\n",
    "# Add solid line (constant color)\n",
    "fig.add_trace(go.Scatter(\n",
    "    x=monthly_df['date'],\n",
    "    y=monthly_df['pm10'],\n",
    "    mode='lines',\n",
    "    line=dict(color='lightgray', width=2),\n",
    "    name='Monthly PM10 Line'\n",
    "))\n",
    "\n",
    "# Add gradient-colored markers\n",
    "fig.add_trace(go.Line(\n",
    "    x=monthly_df['date'],\n",
    "    y=monthly_df['pm10'],\n",
    "    mode='markers',\n",
    "    marker=dict(\n",
    "        size=12,\n",
    "        color=monthly_df['pm10'],\n",
    "        colorscale='RdYlGn_r',\n",
    "        colorbar=dict(title='PM10'),\n",
    "        showscale=True\n",
    "    ),\n",
    "    name='PM10 Intensity'\n",
    "))\n",
    "\n",
    "# Spike annotations\n",
    "for _, row in spikes.iterrows():\n",
    "    if row['pm10'] > 200:\n",
    "        fig.add_annotation(\n",
    "            x=row['date'],\n",
    "            y=row['pm10'],\n",
    "            text=f\"🚨 {row['pm10']:.1f}\",\n",
    "            showarrow=True,\n",
    "            arrowhead=2,\n",
    "            ax=0,\n",
    "            ay=-30,\n",
    "            bgcolor=\"red\",\n",
    "            font=dict(color=\"white\")\n",
    "        )\n",
    "\n",
    "# Layout tweaks\n",
    "fig.update_layout(\n",
    "    title=\"🌫️ Monthly PM10 Levels\",\n",
    "    title_x=0.5,\n",
    "    xaxis_title=\"Date\",\n",
    "    yaxis_title=\"PM10 (µg/m³)\",\n",
    "    template=\"plotly_white\",\n",
    "    hovermode='x unified',\n",
    "    font=dict(family=\"Arial\", size=14),\n",
    "    height=600,\n",
    "    margin=dict(l=50, r=50, t=60, b=40),\n",
    ")\n",
    "\n",
    "fig.show()\n"
   ]
  },
  {
   "cell_type": "markdown",
   "id": "2ca4d734",
   "metadata": {},
   "source": [
    "Importing the vehicles count dataset"
   ]
  },
  {
   "cell_type": "markdown",
   "id": "d8a078ee",
   "metadata": {},
   "source": [
    "Explorting the dataset"
   ]
  },
  {
   "cell_type": "code",
   "execution_count": null,
   "id": "e8ee6357",
   "metadata": {},
   "outputs": [
    {
     "name": "stdout",
     "output_type": "stream",
     "text": [
      "<class 'pandas.core.frame.DataFrame'>\n",
      "RangeIndex: 12 entries, 0 to 11\n",
      "Data columns (total 10 columns):\n",
      " #   Column            Non-Null Count  Dtype  \n",
      "---  ------            --------------  -----  \n",
      " 0   _id               12 non-null     int64  \n",
      " 1   Type of Vehicles  12 non-null     object \n",
      " 2   2015-16           9 non-null      float64\n",
      " 3   2016-17           9 non-null      float64\n",
      " 4   2017-18           9 non-null      float64\n",
      " 5   2018-19           9 non-null      float64\n",
      " 6   2019-20           9 non-null      float64\n",
      " 7   2020-21           9 non-null      float64\n",
      " 8   2021-22           12 non-null     int64  \n",
      " 9   2022-23           12 non-null     int64  \n",
      "dtypes: float64(6), int64(3), object(1)\n",
      "memory usage: 1.1+ KB\n"
     ]
    }
   ],
   "source": [
    "df1 = pd.read_csv(r'..\\Datasets\\vehicles_data.csv')\n",
    "\n",
    "df1.info()"
   ]
  },
  {
   "cell_type": "code",
   "execution_count": 196,
   "id": "4e519416",
   "metadata": {},
   "outputs": [
    {
     "data": {
      "text/html": [
       "<div>\n",
       "<style scoped>\n",
       "    .dataframe tbody tr th:only-of-type {\n",
       "        vertical-align: middle;\n",
       "    }\n",
       "\n",
       "    .dataframe tbody tr th {\n",
       "        vertical-align: top;\n",
       "    }\n",
       "\n",
       "    .dataframe thead th {\n",
       "        text-align: right;\n",
       "    }\n",
       "</style>\n",
       "<table border=\"1\" class=\"dataframe\">\n",
       "  <thead>\n",
       "    <tr style=\"text-align: right;\">\n",
       "      <th></th>\n",
       "      <th>_id</th>\n",
       "      <th>Type of Vehicles</th>\n",
       "      <th>2015-16</th>\n",
       "      <th>2016-17</th>\n",
       "      <th>2017-18</th>\n",
       "      <th>2018-19</th>\n",
       "      <th>2019-20</th>\n",
       "      <th>2020-21</th>\n",
       "      <th>2021-22</th>\n",
       "      <th>2022-23</th>\n",
       "    </tr>\n",
       "  </thead>\n",
       "  <tbody>\n",
       "    <tr>\n",
       "      <th>0</th>\n",
       "      <td>1</td>\n",
       "      <td>Cars and Jeeps</td>\n",
       "      <td>2986579.0</td>\n",
       "      <td>3152710.0</td>\n",
       "      <td>3246637.0</td>\n",
       "      <td>3249670.0</td>\n",
       "      <td>3311579.0</td>\n",
       "      <td>3384736.0</td>\n",
       "      <td>2057657</td>\n",
       "      <td>2071115</td>\n",
       "    </tr>\n",
       "    <tr>\n",
       "      <th>1</th>\n",
       "      <td>2</td>\n",
       "      <td>Motor Cycles and Scooters</td>\n",
       "      <td>6104070.0</td>\n",
       "      <td>6607879.0</td>\n",
       "      <td>7078428.0</td>\n",
       "      <td>7556002.0</td>\n",
       "      <td>7959753.0</td>\n",
       "      <td>8239550.0</td>\n",
       "      <td>5135821</td>\n",
       "      <td>5294900</td>\n",
       "    </tr>\n",
       "    <tr>\n",
       "      <th>2</th>\n",
       "      <td>3</td>\n",
       "      <td>Auto Rickshaws</td>\n",
       "      <td>198137.0</td>\n",
       "      <td>105399.0</td>\n",
       "      <td>113074.0</td>\n",
       "      <td>113240.0</td>\n",
       "      <td>114891.0</td>\n",
       "      <td>114869.0</td>\n",
       "      <td>92149</td>\n",
       "      <td>93654</td>\n",
       "    </tr>\n",
       "    <tr>\n",
       "      <th>3</th>\n",
       "      <td>4</td>\n",
       "      <td>Taxis</td>\n",
       "      <td>91073.0</td>\n",
       "      <td>118308.0</td>\n",
       "      <td>118060.0</td>\n",
       "      <td>109780.0</td>\n",
       "      <td>122476.0</td>\n",
       "      <td>112401.0</td>\n",
       "      <td>85079</td>\n",
       "      <td>83278</td>\n",
       "    </tr>\n",
       "    <tr>\n",
       "      <th>4</th>\n",
       "      <td>5</td>\n",
       "      <td>Buses</td>\n",
       "      <td>34365.0</td>\n",
       "      <td>35206.0</td>\n",
       "      <td>35285.0</td>\n",
       "      <td>32218.0</td>\n",
       "      <td>33302.0</td>\n",
       "      <td>33294.0</td>\n",
       "      <td>17282</td>\n",
       "      <td>17232</td>\n",
       "    </tr>\n",
       "    <tr>\n",
       "      <th>5</th>\n",
       "      <td>6</td>\n",
       "      <td>Other Passenger Vehicles [E-Rickshaw(p)]</td>\n",
       "      <td>6368.0</td>\n",
       "      <td>59759.0</td>\n",
       "      <td>76231.0</td>\n",
       "      <td>81422.0</td>\n",
       "      <td>85477.0</td>\n",
       "      <td>91887.0</td>\n",
       "      <td>104534</td>\n",
       "      <td>118506</td>\n",
       "    </tr>\n",
       "    <tr>\n",
       "      <th>6</th>\n",
       "      <td>7</td>\n",
       "      <td>Ambulances</td>\n",
       "      <td>2990.0</td>\n",
       "      <td>3059.0</td>\n",
       "      <td>3220.0</td>\n",
       "      <td>2358.0</td>\n",
       "      <td>2287.0</td>\n",
       "      <td>2289.0</td>\n",
       "      <td>1131</td>\n",
       "      <td>1172</td>\n",
       "    </tr>\n",
       "    <tr>\n",
       "      <th>7</th>\n",
       "      <td>8</td>\n",
       "      <td>Tractors, All goods Vehicles &amp; Others</td>\n",
       "      <td>281159.0</td>\n",
       "      <td>300437.0</td>\n",
       "      <td>315080.0</td>\n",
       "      <td>246861.0</td>\n",
       "      <td>263112.0</td>\n",
       "      <td>274324.0</td>\n",
       "      <td>245716</td>\n",
       "      <td>265739</td>\n",
       "    </tr>\n",
       "    <tr>\n",
       "      <th>8</th>\n",
       "      <td>9</td>\n",
       "      <td>Total Vehicles Plying</td>\n",
       "      <td>9704741.0</td>\n",
       "      <td>10382757.0</td>\n",
       "      <td>10986015.0</td>\n",
       "      <td>11391551.0</td>\n",
       "      <td>11892877.0</td>\n",
       "      <td>12253350.0</td>\n",
       "      <td>7739369</td>\n",
       "      <td>7945596</td>\n",
       "    </tr>\n",
       "    <tr>\n",
       "      <th>9</th>\n",
       "      <td>10</td>\n",
       "      <td>No. of Vehicles taken NOC</td>\n",
       "      <td>NaN</td>\n",
       "      <td>NaN</td>\n",
       "      <td>NaN</td>\n",
       "      <td>NaN</td>\n",
       "      <td>NaN</td>\n",
       "      <td>NaN</td>\n",
       "      <td>83240</td>\n",
       "      <td>623034</td>\n",
       "    </tr>\n",
       "  </tbody>\n",
       "</table>\n",
       "</div>"
      ],
      "text/plain": [
       "   _id                          Type of Vehicles    2015-16     2016-17  \\\n",
       "0    1                            Cars and Jeeps  2986579.0   3152710.0   \n",
       "1    2                 Motor Cycles and Scooters  6104070.0   6607879.0   \n",
       "2    3                            Auto Rickshaws   198137.0    105399.0   \n",
       "3    4                                     Taxis    91073.0    118308.0   \n",
       "4    5                                     Buses    34365.0     35206.0   \n",
       "5    6  Other Passenger Vehicles [E-Rickshaw(p)]     6368.0     59759.0   \n",
       "6    7                                Ambulances     2990.0      3059.0   \n",
       "7    8     Tractors, All goods Vehicles & Others   281159.0    300437.0   \n",
       "8    9                     Total Vehicles Plying  9704741.0  10382757.0   \n",
       "9   10                 No. of Vehicles taken NOC        NaN         NaN   \n",
       "\n",
       "      2017-18     2018-19     2019-20     2020-21  2021-22  2022-23  \n",
       "0   3246637.0   3249670.0   3311579.0   3384736.0  2057657  2071115  \n",
       "1   7078428.0   7556002.0   7959753.0   8239550.0  5135821  5294900  \n",
       "2    113074.0    113240.0    114891.0    114869.0    92149    93654  \n",
       "3    118060.0    109780.0    122476.0    112401.0    85079    83278  \n",
       "4     35285.0     32218.0     33302.0     33294.0    17282    17232  \n",
       "5     76231.0     81422.0     85477.0     91887.0   104534   118506  \n",
       "6      3220.0      2358.0      2287.0      2289.0     1131     1172  \n",
       "7    315080.0    246861.0    263112.0    274324.0   245716   265739  \n",
       "8  10986015.0  11391551.0  11892877.0  12253350.0  7739369  7945596  \n",
       "9         NaN         NaN         NaN         NaN    83240   623034  "
      ]
     },
     "execution_count": 196,
     "metadata": {},
     "output_type": "execute_result"
    }
   ],
   "source": [
    "df1.head(10)"
   ]
  },
  {
   "cell_type": "code",
   "execution_count": 197,
   "id": "29be857f",
   "metadata": {},
   "outputs": [
    {
     "data": {
      "text/plain": [
       "array(['Cars and Jeeps', 'Motor Cycles and Scooters', 'Auto Rickshaws',\n",
       "       'Taxis', 'Buses', 'Other Passenger Vehicles [E-Rickshaw(p)]',\n",
       "       'Ambulances', 'Tractors, All goods Vehicles & Others',\n",
       "       'Total Vehicles Plying', 'No. of Vehicles taken NOC',\n",
       "       'No. of Vehicles Deregistered', 'No. of Vehicles Scrapped'],\n",
       "      dtype=object)"
      ]
     },
     "execution_count": 197,
     "metadata": {},
     "output_type": "execute_result"
    }
   ],
   "source": [
    "#Plotting the time series data for each year\n",
    "\n",
    "df1[\"Type of Vehicles\"].unique()"
   ]
  },
  {
   "cell_type": "markdown",
   "id": "d287bc49",
   "metadata": {},
   "source": [
    "Data Cleanup"
   ]
  },
  {
   "cell_type": "code",
   "execution_count": 198,
   "id": "9a56ce86",
   "metadata": {},
   "outputs": [],
   "source": [
    "# Dropping the unnecessary rows\n",
    "df1.drop(df1.index[2:], inplace=True)"
   ]
  },
  {
   "cell_type": "code",
   "execution_count": 199,
   "id": "e2984187",
   "metadata": {},
   "outputs": [
    {
     "data": {
      "text/html": [
       "<div>\n",
       "<style scoped>\n",
       "    .dataframe tbody tr th:only-of-type {\n",
       "        vertical-align: middle;\n",
       "    }\n",
       "\n",
       "    .dataframe tbody tr th {\n",
       "        vertical-align: top;\n",
       "    }\n",
       "\n",
       "    .dataframe thead th {\n",
       "        text-align: right;\n",
       "    }\n",
       "</style>\n",
       "<table border=\"1\" class=\"dataframe\">\n",
       "  <thead>\n",
       "    <tr style=\"text-align: right;\">\n",
       "      <th></th>\n",
       "      <th>_id</th>\n",
       "      <th>Type of Vehicles</th>\n",
       "      <th>2015-16</th>\n",
       "      <th>2016-17</th>\n",
       "      <th>2017-18</th>\n",
       "      <th>2018-19</th>\n",
       "      <th>2019-20</th>\n",
       "      <th>2020-21</th>\n",
       "      <th>2021-22</th>\n",
       "      <th>2022-23</th>\n",
       "    </tr>\n",
       "  </thead>\n",
       "  <tbody>\n",
       "    <tr>\n",
       "      <th>0</th>\n",
       "      <td>1</td>\n",
       "      <td>Cars and Jeeps</td>\n",
       "      <td>2986579.0</td>\n",
       "      <td>3152710.0</td>\n",
       "      <td>3246637.0</td>\n",
       "      <td>3249670.0</td>\n",
       "      <td>3311579.0</td>\n",
       "      <td>3384736.0</td>\n",
       "      <td>2057657</td>\n",
       "      <td>2071115</td>\n",
       "    </tr>\n",
       "    <tr>\n",
       "      <th>1</th>\n",
       "      <td>2</td>\n",
       "      <td>Motor Cycles and Scooters</td>\n",
       "      <td>6104070.0</td>\n",
       "      <td>6607879.0</td>\n",
       "      <td>7078428.0</td>\n",
       "      <td>7556002.0</td>\n",
       "      <td>7959753.0</td>\n",
       "      <td>8239550.0</td>\n",
       "      <td>5135821</td>\n",
       "      <td>5294900</td>\n",
       "    </tr>\n",
       "  </tbody>\n",
       "</table>\n",
       "</div>"
      ],
      "text/plain": [
       "   _id           Type of Vehicles    2015-16    2016-17    2017-18    2018-19  \\\n",
       "0    1             Cars and Jeeps  2986579.0  3152710.0  3246637.0  3249670.0   \n",
       "1    2  Motor Cycles and Scooters  6104070.0  6607879.0  7078428.0  7556002.0   \n",
       "\n",
       "     2019-20    2020-21  2021-22  2022-23  \n",
       "0  3311579.0  3384736.0  2057657  2071115  \n",
       "1  7959753.0  8239550.0  5135821  5294900  "
      ]
     },
     "execution_count": 199,
     "metadata": {},
     "output_type": "execute_result"
    }
   ],
   "source": [
    "#Checking to make sure changes were made\n",
    "df1.head(10)"
   ]
  },
  {
   "cell_type": "code",
   "execution_count": 200,
   "id": "50d003c6",
   "metadata": {},
   "outputs": [],
   "source": [
    "# Melt the dataframe excluding the '_id' column\n",
    "df_long = df1.drop('_id', axis=1).melt(id_vars=[\"Type of Vehicles\"], var_name=\"Year\", value_name=\"Count\")\n",
    "\n",
    "# Convert 'Year' from '2015-16' to datetime (we'll use the starting year)\n",
    "df_long['Year'] = df_long['Year'].str[:4].astype(int)\n",
    "df_long['Year'] = pd.to_datetime(df_long['Year'], format='%Y')"
   ]
  },
  {
   "cell_type": "code",
   "execution_count": 201,
   "id": "7c4e8884",
   "metadata": {},
   "outputs": [
    {
     "data": {
      "text/html": [
       "<div>\n",
       "<style scoped>\n",
       "    .dataframe tbody tr th:only-of-type {\n",
       "        vertical-align: middle;\n",
       "    }\n",
       "\n",
       "    .dataframe tbody tr th {\n",
       "        vertical-align: top;\n",
       "    }\n",
       "\n",
       "    .dataframe thead th {\n",
       "        text-align: right;\n",
       "    }\n",
       "</style>\n",
       "<table border=\"1\" class=\"dataframe\">\n",
       "  <thead>\n",
       "    <tr style=\"text-align: right;\">\n",
       "      <th></th>\n",
       "      <th>Type of Vehicles</th>\n",
       "      <th>Year</th>\n",
       "      <th>Count</th>\n",
       "    </tr>\n",
       "  </thead>\n",
       "  <tbody>\n",
       "    <tr>\n",
       "      <th>0</th>\n",
       "      <td>Cars and Jeeps</td>\n",
       "      <td>2015-01-01</td>\n",
       "      <td>2986579.0</td>\n",
       "    </tr>\n",
       "    <tr>\n",
       "      <th>1</th>\n",
       "      <td>Motor Cycles and Scooters</td>\n",
       "      <td>2015-01-01</td>\n",
       "      <td>6104070.0</td>\n",
       "    </tr>\n",
       "    <tr>\n",
       "      <th>2</th>\n",
       "      <td>Cars and Jeeps</td>\n",
       "      <td>2016-01-01</td>\n",
       "      <td>3152710.0</td>\n",
       "    </tr>\n",
       "    <tr>\n",
       "      <th>3</th>\n",
       "      <td>Motor Cycles and Scooters</td>\n",
       "      <td>2016-01-01</td>\n",
       "      <td>6607879.0</td>\n",
       "    </tr>\n",
       "    <tr>\n",
       "      <th>4</th>\n",
       "      <td>Cars and Jeeps</td>\n",
       "      <td>2017-01-01</td>\n",
       "      <td>3246637.0</td>\n",
       "    </tr>\n",
       "    <tr>\n",
       "      <th>5</th>\n",
       "      <td>Motor Cycles and Scooters</td>\n",
       "      <td>2017-01-01</td>\n",
       "      <td>7078428.0</td>\n",
       "    </tr>\n",
       "    <tr>\n",
       "      <th>6</th>\n",
       "      <td>Cars and Jeeps</td>\n",
       "      <td>2018-01-01</td>\n",
       "      <td>3249670.0</td>\n",
       "    </tr>\n",
       "    <tr>\n",
       "      <th>7</th>\n",
       "      <td>Motor Cycles and Scooters</td>\n",
       "      <td>2018-01-01</td>\n",
       "      <td>7556002.0</td>\n",
       "    </tr>\n",
       "    <tr>\n",
       "      <th>8</th>\n",
       "      <td>Cars and Jeeps</td>\n",
       "      <td>2019-01-01</td>\n",
       "      <td>3311579.0</td>\n",
       "    </tr>\n",
       "    <tr>\n",
       "      <th>9</th>\n",
       "      <td>Motor Cycles and Scooters</td>\n",
       "      <td>2019-01-01</td>\n",
       "      <td>7959753.0</td>\n",
       "    </tr>\n",
       "    <tr>\n",
       "      <th>10</th>\n",
       "      <td>Cars and Jeeps</td>\n",
       "      <td>2020-01-01</td>\n",
       "      <td>3384736.0</td>\n",
       "    </tr>\n",
       "    <tr>\n",
       "      <th>11</th>\n",
       "      <td>Motor Cycles and Scooters</td>\n",
       "      <td>2020-01-01</td>\n",
       "      <td>8239550.0</td>\n",
       "    </tr>\n",
       "    <tr>\n",
       "      <th>12</th>\n",
       "      <td>Cars and Jeeps</td>\n",
       "      <td>2021-01-01</td>\n",
       "      <td>2057657.0</td>\n",
       "    </tr>\n",
       "    <tr>\n",
       "      <th>13</th>\n",
       "      <td>Motor Cycles and Scooters</td>\n",
       "      <td>2021-01-01</td>\n",
       "      <td>5135821.0</td>\n",
       "    </tr>\n",
       "    <tr>\n",
       "      <th>14</th>\n",
       "      <td>Cars and Jeeps</td>\n",
       "      <td>2022-01-01</td>\n",
       "      <td>2071115.0</td>\n",
       "    </tr>\n",
       "    <tr>\n",
       "      <th>15</th>\n",
       "      <td>Motor Cycles and Scooters</td>\n",
       "      <td>2022-01-01</td>\n",
       "      <td>5294900.0</td>\n",
       "    </tr>\n",
       "  </tbody>\n",
       "</table>\n",
       "</div>"
      ],
      "text/plain": [
       "             Type of Vehicles       Year      Count\n",
       "0              Cars and Jeeps 2015-01-01  2986579.0\n",
       "1   Motor Cycles and Scooters 2015-01-01  6104070.0\n",
       "2              Cars and Jeeps 2016-01-01  3152710.0\n",
       "3   Motor Cycles and Scooters 2016-01-01  6607879.0\n",
       "4              Cars and Jeeps 2017-01-01  3246637.0\n",
       "5   Motor Cycles and Scooters 2017-01-01  7078428.0\n",
       "6              Cars and Jeeps 2018-01-01  3249670.0\n",
       "7   Motor Cycles and Scooters 2018-01-01  7556002.0\n",
       "8              Cars and Jeeps 2019-01-01  3311579.0\n",
       "9   Motor Cycles and Scooters 2019-01-01  7959753.0\n",
       "10             Cars and Jeeps 2020-01-01  3384736.0\n",
       "11  Motor Cycles and Scooters 2020-01-01  8239550.0\n",
       "12             Cars and Jeeps 2021-01-01  2057657.0\n",
       "13  Motor Cycles and Scooters 2021-01-01  5135821.0\n",
       "14             Cars and Jeeps 2022-01-01  2071115.0\n",
       "15  Motor Cycles and Scooters 2022-01-01  5294900.0"
      ]
     },
     "execution_count": 201,
     "metadata": {},
     "output_type": "execute_result"
    }
   ],
   "source": [
    "df_long"
   ]
  },
  {
   "cell_type": "markdown",
   "id": "240e6813",
   "metadata": {},
   "source": [
    "Plotting a line chart for each type of vehicle"
   ]
  },
  {
   "cell_type": "code",
   "execution_count": null,
   "id": "4c8e1be9",
   "metadata": {},
   "outputs": [
    {
     "data": {
      "application/vnd.plotly.v1+json": {
       "config": {
        "plotlyServerURL": "https://plot.ly"
       },
       "data": [
        {
         "hovertemplate": "Type of Vehicles=Cars and Jeeps<br>Year=%{x}<br>Number of Vehicles=%{y}<extra></extra>",
         "legendgroup": "Cars and Jeeps",
         "line": {
          "color": "#636efa",
          "dash": "solid"
         },
         "marker": {
          "symbol": "circle"
         },
         "mode": "lines+markers",
         "name": "Cars and Jeeps",
         "orientation": "v",
         "showlegend": true,
         "type": "scatter",
         "x": [
          "2015-01-01T00:00:00.000000000",
          "2016-01-01T00:00:00.000000000",
          "2017-01-01T00:00:00.000000000",
          "2018-01-01T00:00:00.000000000",
          "2019-01-01T00:00:00.000000000",
          "2020-01-01T00:00:00.000000000",
          "2021-01-01T00:00:00.000000000",
          "2022-01-01T00:00:00.000000000"
         ],
         "xaxis": "x",
         "y": {
          "bdata": "AAAAgCnJRkEAAAAAow1IQQAAAIAWxUhBAAAAAAPLSEEAAACA7UNJQQAAAADQ0klBAAAAALllP0EAAAAAS5o/QQ==",
          "dtype": "f8"
         },
         "yaxis": "y"
        },
        {
         "hovertemplate": "Type of Vehicles=Motor Cycles and Scooters<br>Year=%{x}<br>Number of Vehicles=%{y}<extra></extra>",
         "legendgroup": "Motor Cycles and Scooters",
         "line": {
          "color": "#EF553B",
          "dash": "solid"
         },
         "marker": {
          "symbol": "circle"
         },
         "mode": "lines+markers",
         "name": "Motor Cycles and Scooters",
         "orientation": "v",
         "showlegend": true,
         "type": "scatter",
         "x": [
          "2015-01-01T00:00:00.000000000",
          "2016-01-01T00:00:00.000000000",
          "2017-01-01T00:00:00.000000000",
          "2018-01-01T00:00:00.000000000",
          "2019-01-01T00:00:00.000000000",
          "2020-01-01T00:00:00.000000000",
          "2021-01-01T00:00:00.000000000",
          "2022-01-01T00:00:00.000000000"
         ],
         "xaxis": "x",
         "y": {
          "bdata": "AAAAgAFJV0EAAADAATVZQQAAAACHAFtBAAAAgOjSXEEAAABAMl1eQQAAAIBvbl9BAAAAQHOXU0EAAAAAzTJUQQ==",
          "dtype": "f8"
         },
         "yaxis": "y"
        }
       ],
       "layout": {
        "annotations": [
         {
          "arrowhead": 2,
          "ax": 0,
          "ay": -40,
          "bgcolor": "lightyellow",
          "bordercolor": "gray",
          "borderwidth": 1,
          "font": {
           "size": 11
          },
          "showarrow": true,
          "text": "⬆️ Peak Cars and Jeeps: 3,384,736.0",
          "x": "2020-01-01T00:00:00",
          "y": 3384736
         },
         {
          "arrowhead": 2,
          "ax": 0,
          "ay": -40,
          "bgcolor": "lightyellow",
          "bordercolor": "gray",
          "borderwidth": 1,
          "font": {
           "size": 11
          },
          "showarrow": true,
          "text": "⬆️ Peak Motor Cycles and Scooters: 8,239,550.0",
          "x": "2020-01-01T00:00:00",
          "y": 8239550
         }
        ],
        "font": {
         "family": "Arial",
         "size": 13
        },
        "height": 650,
        "hovermode": "x unified",
        "legend": {
         "title": {
          "text": "Vehicle Type"
         },
         "tracegroupgap": 0
        },
        "margin": {
         "b": 40,
         "l": 50,
         "r": 50,
         "t": 70
        },
        "template": {
         "data": {
          "bar": [
           {
            "error_x": {
             "color": "#2a3f5f"
            },
            "error_y": {
             "color": "#2a3f5f"
            },
            "marker": {
             "line": {
              "color": "white",
              "width": 0.5
             },
             "pattern": {
              "fillmode": "overlay",
              "size": 10,
              "solidity": 0.2
             }
            },
            "type": "bar"
           }
          ],
          "barpolar": [
           {
            "marker": {
             "line": {
              "color": "white",
              "width": 0.5
             },
             "pattern": {
              "fillmode": "overlay",
              "size": 10,
              "solidity": 0.2
             }
            },
            "type": "barpolar"
           }
          ],
          "carpet": [
           {
            "aaxis": {
             "endlinecolor": "#2a3f5f",
             "gridcolor": "#C8D4E3",
             "linecolor": "#C8D4E3",
             "minorgridcolor": "#C8D4E3",
             "startlinecolor": "#2a3f5f"
            },
            "baxis": {
             "endlinecolor": "#2a3f5f",
             "gridcolor": "#C8D4E3",
             "linecolor": "#C8D4E3",
             "minorgridcolor": "#C8D4E3",
             "startlinecolor": "#2a3f5f"
            },
            "type": "carpet"
           }
          ],
          "choropleth": [
           {
            "colorbar": {
             "outlinewidth": 0,
             "ticks": ""
            },
            "type": "choropleth"
           }
          ],
          "contour": [
           {
            "colorbar": {
             "outlinewidth": 0,
             "ticks": ""
            },
            "colorscale": [
             [
              0,
              "#0d0887"
             ],
             [
              0.1111111111111111,
              "#46039f"
             ],
             [
              0.2222222222222222,
              "#7201a8"
             ],
             [
              0.3333333333333333,
              "#9c179e"
             ],
             [
              0.4444444444444444,
              "#bd3786"
             ],
             [
              0.5555555555555556,
              "#d8576b"
             ],
             [
              0.6666666666666666,
              "#ed7953"
             ],
             [
              0.7777777777777778,
              "#fb9f3a"
             ],
             [
              0.8888888888888888,
              "#fdca26"
             ],
             [
              1,
              "#f0f921"
             ]
            ],
            "type": "contour"
           }
          ],
          "contourcarpet": [
           {
            "colorbar": {
             "outlinewidth": 0,
             "ticks": ""
            },
            "type": "contourcarpet"
           }
          ],
          "heatmap": [
           {
            "colorbar": {
             "outlinewidth": 0,
             "ticks": ""
            },
            "colorscale": [
             [
              0,
              "#0d0887"
             ],
             [
              0.1111111111111111,
              "#46039f"
             ],
             [
              0.2222222222222222,
              "#7201a8"
             ],
             [
              0.3333333333333333,
              "#9c179e"
             ],
             [
              0.4444444444444444,
              "#bd3786"
             ],
             [
              0.5555555555555556,
              "#d8576b"
             ],
             [
              0.6666666666666666,
              "#ed7953"
             ],
             [
              0.7777777777777778,
              "#fb9f3a"
             ],
             [
              0.8888888888888888,
              "#fdca26"
             ],
             [
              1,
              "#f0f921"
             ]
            ],
            "type": "heatmap"
           }
          ],
          "histogram": [
           {
            "marker": {
             "pattern": {
              "fillmode": "overlay",
              "size": 10,
              "solidity": 0.2
             }
            },
            "type": "histogram"
           }
          ],
          "histogram2d": [
           {
            "colorbar": {
             "outlinewidth": 0,
             "ticks": ""
            },
            "colorscale": [
             [
              0,
              "#0d0887"
             ],
             [
              0.1111111111111111,
              "#46039f"
             ],
             [
              0.2222222222222222,
              "#7201a8"
             ],
             [
              0.3333333333333333,
              "#9c179e"
             ],
             [
              0.4444444444444444,
              "#bd3786"
             ],
             [
              0.5555555555555556,
              "#d8576b"
             ],
             [
              0.6666666666666666,
              "#ed7953"
             ],
             [
              0.7777777777777778,
              "#fb9f3a"
             ],
             [
              0.8888888888888888,
              "#fdca26"
             ],
             [
              1,
              "#f0f921"
             ]
            ],
            "type": "histogram2d"
           }
          ],
          "histogram2dcontour": [
           {
            "colorbar": {
             "outlinewidth": 0,
             "ticks": ""
            },
            "colorscale": [
             [
              0,
              "#0d0887"
             ],
             [
              0.1111111111111111,
              "#46039f"
             ],
             [
              0.2222222222222222,
              "#7201a8"
             ],
             [
              0.3333333333333333,
              "#9c179e"
             ],
             [
              0.4444444444444444,
              "#bd3786"
             ],
             [
              0.5555555555555556,
              "#d8576b"
             ],
             [
              0.6666666666666666,
              "#ed7953"
             ],
             [
              0.7777777777777778,
              "#fb9f3a"
             ],
             [
              0.8888888888888888,
              "#fdca26"
             ],
             [
              1,
              "#f0f921"
             ]
            ],
            "type": "histogram2dcontour"
           }
          ],
          "mesh3d": [
           {
            "colorbar": {
             "outlinewidth": 0,
             "ticks": ""
            },
            "type": "mesh3d"
           }
          ],
          "parcoords": [
           {
            "line": {
             "colorbar": {
              "outlinewidth": 0,
              "ticks": ""
             }
            },
            "type": "parcoords"
           }
          ],
          "pie": [
           {
            "automargin": true,
            "type": "pie"
           }
          ],
          "scatter": [
           {
            "fillpattern": {
             "fillmode": "overlay",
             "size": 10,
             "solidity": 0.2
            },
            "type": "scatter"
           }
          ],
          "scatter3d": [
           {
            "line": {
             "colorbar": {
              "outlinewidth": 0,
              "ticks": ""
             }
            },
            "marker": {
             "colorbar": {
              "outlinewidth": 0,
              "ticks": ""
             }
            },
            "type": "scatter3d"
           }
          ],
          "scattercarpet": [
           {
            "marker": {
             "colorbar": {
              "outlinewidth": 0,
              "ticks": ""
             }
            },
            "type": "scattercarpet"
           }
          ],
          "scattergeo": [
           {
            "marker": {
             "colorbar": {
              "outlinewidth": 0,
              "ticks": ""
             }
            },
            "type": "scattergeo"
           }
          ],
          "scattergl": [
           {
            "marker": {
             "colorbar": {
              "outlinewidth": 0,
              "ticks": ""
             }
            },
            "type": "scattergl"
           }
          ],
          "scattermap": [
           {
            "marker": {
             "colorbar": {
              "outlinewidth": 0,
              "ticks": ""
             }
            },
            "type": "scattermap"
           }
          ],
          "scattermapbox": [
           {
            "marker": {
             "colorbar": {
              "outlinewidth": 0,
              "ticks": ""
             }
            },
            "type": "scattermapbox"
           }
          ],
          "scatterpolar": [
           {
            "marker": {
             "colorbar": {
              "outlinewidth": 0,
              "ticks": ""
             }
            },
            "type": "scatterpolar"
           }
          ],
          "scatterpolargl": [
           {
            "marker": {
             "colorbar": {
              "outlinewidth": 0,
              "ticks": ""
             }
            },
            "type": "scatterpolargl"
           }
          ],
          "scatterternary": [
           {
            "marker": {
             "colorbar": {
              "outlinewidth": 0,
              "ticks": ""
             }
            },
            "type": "scatterternary"
           }
          ],
          "surface": [
           {
            "colorbar": {
             "outlinewidth": 0,
             "ticks": ""
            },
            "colorscale": [
             [
              0,
              "#0d0887"
             ],
             [
              0.1111111111111111,
              "#46039f"
             ],
             [
              0.2222222222222222,
              "#7201a8"
             ],
             [
              0.3333333333333333,
              "#9c179e"
             ],
             [
              0.4444444444444444,
              "#bd3786"
             ],
             [
              0.5555555555555556,
              "#d8576b"
             ],
             [
              0.6666666666666666,
              "#ed7953"
             ],
             [
              0.7777777777777778,
              "#fb9f3a"
             ],
             [
              0.8888888888888888,
              "#fdca26"
             ],
             [
              1,
              "#f0f921"
             ]
            ],
            "type": "surface"
           }
          ],
          "table": [
           {
            "cells": {
             "fill": {
              "color": "#EBF0F8"
             },
             "line": {
              "color": "white"
             }
            },
            "header": {
             "fill": {
              "color": "#C8D4E3"
             },
             "line": {
              "color": "white"
             }
            },
            "type": "table"
           }
          ]
         },
         "layout": {
          "annotationdefaults": {
           "arrowcolor": "#2a3f5f",
           "arrowhead": 0,
           "arrowwidth": 1
          },
          "autotypenumbers": "strict",
          "coloraxis": {
           "colorbar": {
            "outlinewidth": 0,
            "ticks": ""
           }
          },
          "colorscale": {
           "diverging": [
            [
             0,
             "#8e0152"
            ],
            [
             0.1,
             "#c51b7d"
            ],
            [
             0.2,
             "#de77ae"
            ],
            [
             0.3,
             "#f1b6da"
            ],
            [
             0.4,
             "#fde0ef"
            ],
            [
             0.5,
             "#f7f7f7"
            ],
            [
             0.6,
             "#e6f5d0"
            ],
            [
             0.7,
             "#b8e186"
            ],
            [
             0.8,
             "#7fbc41"
            ],
            [
             0.9,
             "#4d9221"
            ],
            [
             1,
             "#276419"
            ]
           ],
           "sequential": [
            [
             0,
             "#0d0887"
            ],
            [
             0.1111111111111111,
             "#46039f"
            ],
            [
             0.2222222222222222,
             "#7201a8"
            ],
            [
             0.3333333333333333,
             "#9c179e"
            ],
            [
             0.4444444444444444,
             "#bd3786"
            ],
            [
             0.5555555555555556,
             "#d8576b"
            ],
            [
             0.6666666666666666,
             "#ed7953"
            ],
            [
             0.7777777777777778,
             "#fb9f3a"
            ],
            [
             0.8888888888888888,
             "#fdca26"
            ],
            [
             1,
             "#f0f921"
            ]
           ],
           "sequentialminus": [
            [
             0,
             "#0d0887"
            ],
            [
             0.1111111111111111,
             "#46039f"
            ],
            [
             0.2222222222222222,
             "#7201a8"
            ],
            [
             0.3333333333333333,
             "#9c179e"
            ],
            [
             0.4444444444444444,
             "#bd3786"
            ],
            [
             0.5555555555555556,
             "#d8576b"
            ],
            [
             0.6666666666666666,
             "#ed7953"
            ],
            [
             0.7777777777777778,
             "#fb9f3a"
            ],
            [
             0.8888888888888888,
             "#fdca26"
            ],
            [
             1,
             "#f0f921"
            ]
           ]
          },
          "colorway": [
           "#636efa",
           "#EF553B",
           "#00cc96",
           "#ab63fa",
           "#FFA15A",
           "#19d3f3",
           "#FF6692",
           "#B6E880",
           "#FF97FF",
           "#FECB52"
          ],
          "font": {
           "color": "#2a3f5f"
          },
          "geo": {
           "bgcolor": "white",
           "lakecolor": "white",
           "landcolor": "white",
           "showlakes": true,
           "showland": true,
           "subunitcolor": "#C8D4E3"
          },
          "hoverlabel": {
           "align": "left"
          },
          "hovermode": "closest",
          "mapbox": {
           "style": "light"
          },
          "paper_bgcolor": "white",
          "plot_bgcolor": "white",
          "polar": {
           "angularaxis": {
            "gridcolor": "#EBF0F8",
            "linecolor": "#EBF0F8",
            "ticks": ""
           },
           "bgcolor": "white",
           "radialaxis": {
            "gridcolor": "#EBF0F8",
            "linecolor": "#EBF0F8",
            "ticks": ""
           }
          },
          "scene": {
           "xaxis": {
            "backgroundcolor": "white",
            "gridcolor": "#DFE8F3",
            "gridwidth": 2,
            "linecolor": "#EBF0F8",
            "showbackground": true,
            "ticks": "",
            "zerolinecolor": "#EBF0F8"
           },
           "yaxis": {
            "backgroundcolor": "white",
            "gridcolor": "#DFE8F3",
            "gridwidth": 2,
            "linecolor": "#EBF0F8",
            "showbackground": true,
            "ticks": "",
            "zerolinecolor": "#EBF0F8"
           },
           "zaxis": {
            "backgroundcolor": "white",
            "gridcolor": "#DFE8F3",
            "gridwidth": 2,
            "linecolor": "#EBF0F8",
            "showbackground": true,
            "ticks": "",
            "zerolinecolor": "#EBF0F8"
           }
          },
          "shapedefaults": {
           "line": {
            "color": "#2a3f5f"
           }
          },
          "ternary": {
           "aaxis": {
            "gridcolor": "#DFE8F3",
            "linecolor": "#A2B1C6",
            "ticks": ""
           },
           "baxis": {
            "gridcolor": "#DFE8F3",
            "linecolor": "#A2B1C6",
            "ticks": ""
           },
           "bgcolor": "white",
           "caxis": {
            "gridcolor": "#DFE8F3",
            "linecolor": "#A2B1C6",
            "ticks": ""
           }
          },
          "title": {
           "x": 0.05
          },
          "xaxis": {
           "automargin": true,
           "gridcolor": "#EBF0F8",
           "linecolor": "#EBF0F8",
           "ticks": "",
           "title": {
            "standoff": 15
           },
           "zerolinecolor": "#EBF0F8",
           "zerolinewidth": 2
          },
          "yaxis": {
           "automargin": true,
           "gridcolor": "#EBF0F8",
           "linecolor": "#EBF0F8",
           "ticks": "",
           "title": {
            "standoff": 15
           },
           "zerolinecolor": "#EBF0F8",
           "zerolinewidth": 2
          }
         }
        },
        "title": {
         "text": "📈 Vehicle Type Trends (2015–2023)",
         "x": 0.5
        },
        "xaxis": {
         "anchor": "y",
         "domain": [
          0,
          1
         ],
         "title": {
          "text": "Year"
         }
        },
        "yaxis": {
         "anchor": "x",
         "domain": [
          0,
          1
         ],
         "title": {
          "text": "Number of Vehicles"
         }
        }
       }
      }
     },
     "metadata": {},
     "output_type": "display_data"
    }
   ],
   "source": [
    "fig = px.line(\n",
    "    df_long,\n",
    "    x='Year',\n",
    "    y='Count',\n",
    "    color='Type of Vehicles',\n",
    "    markers=True,\n",
    "    title='📈 Vehicle Type Trends (2015–2022)',\n",
    "    labels={'Year': 'Year', 'Count': 'Number of Vehicles'},\n",
    "    template='plotly_white'\n",
    ")\n",
    "\n",
    "\n",
    "# Step 4: Annotate Peaks\n",
    "for vehicle in df_long['Type of Vehicles'].unique():\n",
    "    sub_df = df_long[df_long['Type of Vehicles'] == vehicle]\n",
    "    peak_row = sub_df.loc[sub_df['Count'].idxmax()]\n",
    "    \n",
    "    fig.add_annotation(\n",
    "        x=peak_row['Year'],\n",
    "        y=peak_row['Count'],\n",
    "        text=f\"⬆️ Peak {vehicle}: {peak_row['Count']:,}\",\n",
    "        showarrow=True,\n",
    "        arrowhead=2,\n",
    "        ax=0,\n",
    "        ay=-40,\n",
    "        bgcolor=\"lightyellow\",\n",
    "        font=dict(size=11),\n",
    "        bordercolor=\"gray\",\n",
    "        borderwidth=1\n",
    "    )\n",
    "\n",
    "\n",
    "# Step 5: Layout Polishing\n",
    "fig.update_layout(\n",
    "    height=650,\n",
    "    title_x=0.5,\n",
    "    hovermode='x unified',\n",
    "    font=dict(family=\"Arial\", size=13),\n",
    "    margin=dict(l=50, r=50, t=70, b=40),\n",
    "    legend_title=\"Vehicle Type\"\n",
    ")\n",
    "\n",
    "fig.show()"
   ]
  },
  {
   "cell_type": "markdown",
   "id": "422ab782",
   "metadata": {},
   "source": [
    "Mapping Geo Spatial Data from NASA Satelittes for Fires Near Delhi Area Using Keplar"
   ]
  },
  {
   "cell_type": "code",
   "execution_count": 110,
   "id": "0f22ec2b",
   "metadata": {},
   "outputs": [],
   "source": [
    "#Importing the dataset\n",
    "df_geo1 = pd.read_csv('../Datasets/fire_archive_M-C61_601386.csv')\n",
    "df_geo2 = pd.read_csv('../Datasets/fire_archive_SV-C2_601390.csv')\n",
    "df_geo3 = pd.read_csv('../Datasets/fire_archive_J1V-C2_601388.csv')"
   ]
  },
  {
   "cell_type": "code",
   "execution_count": 111,
   "id": "6624f4e3",
   "metadata": {},
   "outputs": [
    {
     "name": "stdout",
     "output_type": "stream",
     "text": [
      "<class 'pandas.core.frame.DataFrame'>\n",
      "RangeIndex: 905405 entries, 0 to 905404\n",
      "Data columns (total 15 columns):\n",
      " #   Column      Non-Null Count   Dtype  \n",
      "---  ------      --------------   -----  \n",
      " 0   latitude    905405 non-null  float64\n",
      " 1   longitude   905405 non-null  float64\n",
      " 2   brightness  905405 non-null  float64\n",
      " 3   scan        905405 non-null  float64\n",
      " 4   track       905405 non-null  float64\n",
      " 5   acq_date    905405 non-null  object \n",
      " 6   acq_time    905405 non-null  int64  \n",
      " 7   satellite   905405 non-null  object \n",
      " 8   instrument  905405 non-null  object \n",
      " 9   confidence  905405 non-null  int64  \n",
      " 10  version     905405 non-null  float64\n",
      " 11  bright_t31  905405 non-null  float64\n",
      " 12  frp         905405 non-null  float64\n",
      " 13  daynight    905405 non-null  object \n",
      " 14  type        905405 non-null  int64  \n",
      "dtypes: float64(8), int64(3), object(4)\n",
      "memory usage: 103.6+ MB\n",
      "<class 'pandas.core.frame.DataFrame'>\n",
      "RangeIndex: 6528640 entries, 0 to 6528639\n",
      "Data columns (total 15 columns):\n",
      " #   Column      Dtype  \n",
      "---  ------      -----  \n",
      " 0   latitude    float64\n",
      " 1   longitude   float64\n",
      " 2   brightness  float64\n",
      " 3   scan        float64\n",
      " 4   track       float64\n",
      " 5   acq_date    object \n",
      " 6   acq_time    int64  \n",
      " 7   satellite   object \n",
      " 8   instrument  object \n",
      " 9   confidence  object \n",
      " 10  version     int64  \n",
      " 11  bright_t31  float64\n",
      " 12  frp         float64\n",
      " 13  daynight    object \n",
      " 14  type        int64  \n",
      "dtypes: float64(7), int64(3), object(5)\n",
      "memory usage: 747.1+ MB\n",
      "<class 'pandas.core.frame.DataFrame'>\n",
      "RangeIndex: 3949852 entries, 0 to 3949851\n",
      "Data columns (total 15 columns):\n",
      " #   Column      Dtype  \n",
      "---  ------      -----  \n",
      " 0   latitude    float64\n",
      " 1   longitude   float64\n",
      " 2   brightness  float64\n",
      " 3   scan        float64\n",
      " 4   track       float64\n",
      " 5   acq_date    object \n",
      " 6   acq_time    int64  \n",
      " 7   satellite   object \n",
      " 8   instrument  object \n",
      " 9   confidence  object \n",
      " 10  version     int64  \n",
      " 11  bright_t31  float64\n",
      " 12  frp         float64\n",
      " 13  daynight    object \n",
      " 14  type        int64  \n",
      "dtypes: float64(7), int64(3), object(5)\n",
      "memory usage: 452.0+ MB\n"
     ]
    }
   ],
   "source": [
    "df_geo1.info()\n",
    "df_geo2.info()\n",
    "df_geo3.info()"
   ]
  },
  {
   "cell_type": "code",
   "execution_count": 112,
   "id": "2d3db58e",
   "metadata": {},
   "outputs": [
    {
     "data": {
      "text/html": [
       "<div>\n",
       "<style scoped>\n",
       "    .dataframe tbody tr th:only-of-type {\n",
       "        vertical-align: middle;\n",
       "    }\n",
       "\n",
       "    .dataframe tbody tr th {\n",
       "        vertical-align: top;\n",
       "    }\n",
       "\n",
       "    .dataframe thead th {\n",
       "        text-align: right;\n",
       "    }\n",
       "</style>\n",
       "<table border=\"1\" class=\"dataframe\">\n",
       "  <thead>\n",
       "    <tr style=\"text-align: right;\">\n",
       "      <th></th>\n",
       "      <th>latitude</th>\n",
       "      <th>longitude</th>\n",
       "      <th>brightness</th>\n",
       "      <th>scan</th>\n",
       "      <th>track</th>\n",
       "      <th>acq_date</th>\n",
       "      <th>acq_time</th>\n",
       "      <th>satellite</th>\n",
       "      <th>instrument</th>\n",
       "      <th>confidence</th>\n",
       "      <th>version</th>\n",
       "      <th>bright_t31</th>\n",
       "      <th>frp</th>\n",
       "      <th>daynight</th>\n",
       "      <th>type</th>\n",
       "    </tr>\n",
       "  </thead>\n",
       "  <tbody>\n",
       "    <tr>\n",
       "      <th>0</th>\n",
       "      <td>22.58846</td>\n",
       "      <td>92.51312</td>\n",
       "      <td>337.59</td>\n",
       "      <td>0.63</td>\n",
       "      <td>0.72</td>\n",
       "      <td>2018-04-01</td>\n",
       "      <td>606</td>\n",
       "      <td>N20</td>\n",
       "      <td>VIIRS</td>\n",
       "      <td>n</td>\n",
       "      <td>2</td>\n",
       "      <td>299.01</td>\n",
       "      <td>6.89</td>\n",
       "      <td>D</td>\n",
       "      <td>0</td>\n",
       "    </tr>\n",
       "    <tr>\n",
       "      <th>1</th>\n",
       "      <td>22.50259</td>\n",
       "      <td>92.55136</td>\n",
       "      <td>330.26</td>\n",
       "      <td>0.63</td>\n",
       "      <td>0.72</td>\n",
       "      <td>2018-04-01</td>\n",
       "      <td>606</td>\n",
       "      <td>N20</td>\n",
       "      <td>VIIRS</td>\n",
       "      <td>n</td>\n",
       "      <td>2</td>\n",
       "      <td>299.59</td>\n",
       "      <td>8.80</td>\n",
       "      <td>D</td>\n",
       "      <td>0</td>\n",
       "    </tr>\n",
       "    <tr>\n",
       "      <th>2</th>\n",
       "      <td>25.07154</td>\n",
       "      <td>93.79645</td>\n",
       "      <td>326.75</td>\n",
       "      <td>0.47</td>\n",
       "      <td>0.64</td>\n",
       "      <td>2018-04-01</td>\n",
       "      <td>606</td>\n",
       "      <td>N20</td>\n",
       "      <td>VIIRS</td>\n",
       "      <td>n</td>\n",
       "      <td>2</td>\n",
       "      <td>281.35</td>\n",
       "      <td>8.20</td>\n",
       "      <td>D</td>\n",
       "      <td>0</td>\n",
       "    </tr>\n",
       "    <tr>\n",
       "      <th>3</th>\n",
       "      <td>25.10410</td>\n",
       "      <td>94.00828</td>\n",
       "      <td>347.82</td>\n",
       "      <td>0.45</td>\n",
       "      <td>0.63</td>\n",
       "      <td>2018-04-01</td>\n",
       "      <td>606</td>\n",
       "      <td>N20</td>\n",
       "      <td>VIIRS</td>\n",
       "      <td>n</td>\n",
       "      <td>2</td>\n",
       "      <td>293.19</td>\n",
       "      <td>7.43</td>\n",
       "      <td>D</td>\n",
       "      <td>0</td>\n",
       "    </tr>\n",
       "    <tr>\n",
       "      <th>4</th>\n",
       "      <td>25.10242</td>\n",
       "      <td>94.00741</td>\n",
       "      <td>343.47</td>\n",
       "      <td>0.45</td>\n",
       "      <td>0.63</td>\n",
       "      <td>2018-04-01</td>\n",
       "      <td>606</td>\n",
       "      <td>N20</td>\n",
       "      <td>VIIRS</td>\n",
       "      <td>n</td>\n",
       "      <td>2</td>\n",
       "      <td>293.91</td>\n",
       "      <td>5.23</td>\n",
       "      <td>D</td>\n",
       "      <td>0</td>\n",
       "    </tr>\n",
       "  </tbody>\n",
       "</table>\n",
       "</div>"
      ],
      "text/plain": [
       "   latitude  longitude  brightness  scan  track    acq_date  acq_time  \\\n",
       "0  22.58846   92.51312      337.59  0.63   0.72  2018-04-01       606   \n",
       "1  22.50259   92.55136      330.26  0.63   0.72  2018-04-01       606   \n",
       "2  25.07154   93.79645      326.75  0.47   0.64  2018-04-01       606   \n",
       "3  25.10410   94.00828      347.82  0.45   0.63  2018-04-01       606   \n",
       "4  25.10242   94.00741      343.47  0.45   0.63  2018-04-01       606   \n",
       "\n",
       "  satellite instrument confidence  version  bright_t31   frp daynight  type  \n",
       "0       N20      VIIRS          n        2      299.01  6.89        D     0  \n",
       "1       N20      VIIRS          n        2      299.59  8.80        D     0  \n",
       "2       N20      VIIRS          n        2      281.35  8.20        D     0  \n",
       "3       N20      VIIRS          n        2      293.19  7.43        D     0  \n",
       "4       N20      VIIRS          n        2      293.91  5.23        D     0  "
      ]
     },
     "execution_count": 112,
     "metadata": {},
     "output_type": "execute_result"
    }
   ],
   "source": [
    "df_geo1.head()\n",
    "df_geo2.head()\n",
    "df_geo3.head()"
   ]
  },
  {
   "cell_type": "code",
   "execution_count": 113,
   "id": "375bc050",
   "metadata": {},
   "outputs": [
    {
     "data": {
      "text/plain": [
       "latitude      0\n",
       "longitude     0\n",
       "brightness    0\n",
       "scan          0\n",
       "track         0\n",
       "acq_date      0\n",
       "acq_time      0\n",
       "satellite     0\n",
       "instrument    0\n",
       "confidence    0\n",
       "version       0\n",
       "bright_t31    0\n",
       "frp           0\n",
       "daynight      0\n",
       "type          0\n",
       "dtype: int64"
      ]
     },
     "execution_count": 113,
     "metadata": {},
     "output_type": "execute_result"
    }
   ],
   "source": [
    "#Checking for null values\n",
    "df_geo1.isnull().sum()\n",
    "df_geo2.isnull().sum()\n",
    "df_geo3.isnull().sum()"
   ]
  },
  {
   "cell_type": "markdown",
   "id": "f7f5964b",
   "metadata": {},
   "source": [
    "Feature Engineering\n"
   ]
  },
  {
   "cell_type": "code",
   "execution_count": 114,
   "id": "0961e228",
   "metadata": {},
   "outputs": [],
   "source": [
    "#Checking the acq_date column to acq_date time formatting\n",
    "#Checking the acq_date column to acq_date time formatting\n",
    "df_geo1['acq_date'] = pd.to_datetime(df_geo1['acq_date']).dt.strftime('%Y-%m-%dT%H:%M:%SZ')\n",
    "df_geo2['acq_date'] = pd.to_datetime(df_geo2['acq_date']).dt.strftime('%Y-%m-%dT%H:%M:%SZ')\n",
    "df_geo3['acq_date'] = pd.to_datetime(df_geo3['acq_date']).dt.strftime('%Y-%m-%dT%H:%M:%SZ')"
   ]
  },
  {
   "cell_type": "code",
   "execution_count": 115,
   "id": "b9cbb2ec",
   "metadata": {},
   "outputs": [],
   "source": [
    "#Keeping the rows starting from 2022 November 1st to 2023 April 30th\n",
    "\n",
    "df_geo1 = df_geo1[(df_geo1['acq_date'] >= '2022-10-01') & (df_geo1['acq_date'] <= '2023-04-30')]\n",
    "df_geo2 = df_geo2[(df_geo2['acq_date'] >= '2022-10-01') & (df_geo2['acq_date'] <= '2023-04-30')]\n",
    "df_geo3 = df_geo3[(df_geo3['acq_date'] >= '2022-10-01') & (df_geo3['acq_date'] <= '2023-04-30')]\n"
   ]
  },
  {
   "cell_type": "markdown",
   "id": "aff7e9e4",
   "metadata": {},
   "source": [
    "Now, the filtered datasets are ready to be used in Keplar for Geospatial Map"
   ]
  },
  {
   "cell_type": "code",
   "execution_count": null,
   "id": "dcaf5be2",
   "metadata": {},
   "outputs": [],
   "source": [
    "#Creating a 'month' column for aggregation\n",
    "df_geo1['month'] = pd.to_datetime(df_geo1['acq_date']).dt.strftime('%Y-%m')\n",
    "df_geo2['month'] = pd.to_datetime(df_geo2['acq_date']).dt.strftime('%Y-%m')\n",
    "df_geo3['month'] = pd.to_datetime(df_geo3['acq_date']).dt.strftime('%Y-%m')"
   ]
  },
  {
   "cell_type": "code",
   "execution_count": 136,
   "id": "933f215a",
   "metadata": {},
   "outputs": [
    {
     "name": "stdout",
     "output_type": "stream",
     "text": [
      "<class 'pandas.core.frame.DataFrame'>\n",
      "RangeIndex: 1094693 entries, 0 to 1094692\n",
      "Data columns (total 16 columns):\n",
      " #   Column      Non-Null Count    Dtype  \n",
      "---  ------      --------------    -----  \n",
      " 0   latitude    1094693 non-null  float64\n",
      " 1   longitude   1094693 non-null  float64\n",
      " 2   brightness  1094693 non-null  float64\n",
      " 3   scan        1094693 non-null  float64\n",
      " 4   track       1094693 non-null  float64\n",
      " 5   acq_date    1094693 non-null  object \n",
      " 6   acq_time    1094693 non-null  int64  \n",
      " 7   satellite   1094693 non-null  object \n",
      " 8   instrument  1094693 non-null  object \n",
      " 9   confidence  1094693 non-null  object \n",
      " 10  version     1094693 non-null  float64\n",
      " 11  bright_t31  1094693 non-null  float64\n",
      " 12  frp         1094693 non-null  float64\n",
      " 13  daynight    1094693 non-null  object \n",
      " 14  type        1094693 non-null  int64  \n",
      " 15  month       1094693 non-null  object \n",
      "dtypes: float64(8), int64(2), object(6)\n",
      "memory usage: 133.6+ MB\n"
     ]
    }
   ],
   "source": [
    "#Concatenating the three dataframes into one\n",
    "\n",
    "file_list = [df_geo1, df_geo2, df_geo3]\n",
    "df_geo = pd.concat(file_list, ignore_index=True)\n",
    "#Checking the concatenated dataframe\n",
    "df_geo.info()"
   ]
  },
  {
   "cell_type": "code",
   "execution_count": 138,
   "id": "fb17c0c7",
   "metadata": {},
   "outputs": [
    {
     "data": {
      "text/plain": [
       "array(['2022-10', '2022-11', '2022-12', '2023-01', '2023-02', '2023-03',\n",
       "       '2023-04'], dtype=object)"
      ]
     },
     "execution_count": 138,
     "metadata": {},
     "output_type": "execute_result"
    }
   ],
   "source": [
    "unique_months = df_geo['month'].unique()\n",
    "unique_months"
   ]
  },
  {
   "cell_type": "code",
   "execution_count": 141,
   "id": "46df6f13",
   "metadata": {},
   "outputs": [
    {
     "name": "stdout",
     "output_type": "stream",
     "text": [
      "Saved: brightness_map_2022-10.html\n",
      "Saved: brightness_map_2022-11.html\n",
      "Saved: brightness_map_2022-12.html\n",
      "Saved: brightness_map_2023-01.html\n",
      "Saved: brightness_map_2023-02.html\n",
      "Saved: brightness_map_2023-03.html\n",
      "Saved: brightness_map_2023-04.html\n"
     ]
    }
   ],
   "source": [
    "# Loop through each month and plot\n",
    "for month in unique_months:\n",
    "    monthly_df = df_geo[df_geo['month'] == month]\n",
    "    \n",
    "    fig = px.scatter_mapbox(\n",
    "        monthly_df,\n",
    "        lat=\"latitude\",\n",
    "        lon=\"longitude\",\n",
    "        color=\"brightness\",\n",
    "        color_continuous_scale=\"YlOrRd\",\n",
    "        size_max=15,\n",
    "        zoom=4.5,\n",
    "        title=f\"Brightness Map - {month}\"\n",
    "    )\n",
    "    \n",
    "    fig.update_layout(\n",
    "        mapbox_style=\"carto-positron\",\n",
    "        margin={\"r\":0,\"t\":40,\"l\":0,\"b\":0}\n",
    "    )\n",
    "    \n",
    "    # Save to HTML\n",
    "    filename = f\"brightness_map_{month}.html\"\n",
    "    fig.write_html(filename)\n",
    "    print(f\"Saved: {filename}\")"
   ]
  }
 ],
 "metadata": {
  "kernelspec": {
   "display_name": "Python 3",
   "language": "python",
   "name": "python3"
  },
  "language_info": {
   "codemirror_mode": {
    "name": "ipython",
    "version": 3
   },
   "file_extension": ".py",
   "mimetype": "text/x-python",
   "name": "python",
   "nbconvert_exporter": "python",
   "pygments_lexer": "ipython3",
   "version": "3.12.2"
  }
 },
 "nbformat": 4,
 "nbformat_minor": 5
}
